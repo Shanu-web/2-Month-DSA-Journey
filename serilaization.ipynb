{
 "cells": [
  {
   "cell_type": "code",
   "execution_count": 2,
   "id": "f4563aa0-6f21-4382-b8ff-e491b263834a",
   "metadata": {},
   "outputs": [
    {
     "name": "stdout",
     "output_type": "stream",
     "text": [
      "data serialized\n"
     ]
    }
   ],
   "source": [
    "## Serialization\n",
    "\n",
    "##Serialization is the process of converting python objects into a format that can be stored or transmitted and then reconstructed later.\n",
    "\n",
    "# Using Pickle module, Binary Serialization\n",
    "#The pickle module allows you to serialize(save) Python objects into binary format and deserialize them back into python objects\n",
    "\n",
    "# Python Object using Pickle\n",
    "\n",
    "import pickle\n",
    "\n",
    "data={\"name\":\"Shanu\", \"goal\": \"Microsoft\", \"progress\":\"60\"}\n",
    "\n",
    "with open(\"progress.pkl\", \"wb\") as file:\n",
    "    pickle.dump(data, file)\n",
    "\n",
    "print(\"data serialized\")\n"
   ]
  },
  {
   "cell_type": "code",
   "execution_count": 3,
   "id": "8db0dc5a-428a-4ffa-a6ec-6ae06355cc60",
   "metadata": {},
   "outputs": [
    {
     "name": "stdout",
     "output_type": "stream",
     "text": [
      "{'name': 'Shanu', 'goal': 'Microsoft', 'progress': '60'}\n"
     ]
    }
   ],
   "source": [
    "with open(\"progress.pkl\", \"rb\") as file:\n",
    "    loaded_data=pickle.load(file)\n",
    "\n",
    "print(loaded_data)"
   ]
  },
  {
   "cell_type": "code",
   "execution_count": 5,
   "id": "46198333-d237-422c-9d5a-3999ced95498",
   "metadata": {},
   "outputs": [
    {
     "name": "stdout",
     "output_type": "stream",
     "text": [
      "Json Object saved\n"
     ]
    }
   ],
   "source": [
    "## Using Json module\n",
    "\n",
    "# Text serilaization\n",
    "\n",
    "import json\n",
    "\n",
    "data={\"name\":\"Shanu\", \"goal\": \"Microsoft\", \"progress\":\"60\"}\n",
    "with open(\"data.json\", \"w\") as file:\n",
    "    json.dump(data, file)\n",
    "\n",
    "print(\"Json Object saved\")\n",
    "\n"
   ]
  },
  {
   "cell_type": "code",
   "execution_count": 6,
   "id": "43a55511-b903-4043-a292-470edf94789e",
   "metadata": {},
   "outputs": [
    {
     "name": "stdout",
     "output_type": "stream",
     "text": [
      "{'name': 'Shanu', 'goal': 'Microsoft', 'progress': '60'}\n"
     ]
    }
   ],
   "source": [
    "with open(\"data.json\", \"r\") as file:\n",
    "    loaded_data=json.load(file)\n",
    "print(loaded_data)"
   ]
  },
  {
   "cell_type": "code",
   "execution_count": 12,
   "id": "45d6d2dc-82c8-45cf-9445-af90cf05ac43",
   "metadata": {},
   "outputs": [
    {
     "name": "stdout",
     "output_type": "stream",
     "text": [
      "Data serilaized successful\n"
     ]
    }
   ],
   "source": [
    "data = {\n",
    "    \"name\": \"Shanu\",\n",
    "    \"skills\": [\"Python\", \"DSA\", \"Machine Learning\"],\n",
    "    \"progress\": {\"Python\": 75, \"DSA\": 60, \"ML\": 40}\n",
    "}\n",
    "\n",
    "import pickle\n",
    "\n",
    "with open(\"data.pkl\", \"wb\") as file:\n",
    "    pickle.dump(data, file)\n",
    "print(\"Data serilaized successful\")"
   ]
  },
  {
   "cell_type": "code",
   "execution_count": 13,
   "id": "1a057255-5cc8-423e-ae61-235ed4052f95",
   "metadata": {},
   "outputs": [
    {
     "name": "stdout",
     "output_type": "stream",
     "text": [
      "{'name': 'Shanu', 'skills': ['Python', 'DSA', 'Machine Learning'], 'progress': {'Python': 75, 'DSA': 60, 'ML': 40}}\n"
     ]
    }
   ],
   "source": [
    "with open(\"data.pkl\", \"rb\") as file:\n",
    "    data_load=pickle.load(file)\n",
    "print(data_load)"
   ]
  },
  {
   "cell_type": "code",
   "execution_count": 14,
   "id": "c22e95a6-f3ec-477b-be08-bb9baaa017a9",
   "metadata": {},
   "outputs": [
    {
     "name": "stdout",
     "output_type": "stream",
     "text": [
      "Json saved successfully\n"
     ]
    }
   ],
   "source": [
    "import json\n",
    "data = {\n",
    "    \"name\": \"Shanu\",\n",
    "    \"skills\": [\"Python\", \"DSA\", \"Machine Learning\"],\n",
    "    \"progress\": {\"Python\": 75, \"DSA\": 60, \"ML\": 40}\n",
    "}\n",
    "\n",
    "with open(\"data.json\", \"w\") as file:\n",
    "    json.dump(data,file)\n",
    "print(\"Json saved successfully\")\n",
    "\n"
   ]
  },
  {
   "cell_type": "code",
   "execution_count": 16,
   "id": "8b6cc8eb-6c9f-4c44-9c8b-5bcb98e330b6",
   "metadata": {},
   "outputs": [
    {
     "name": "stdout",
     "output_type": "stream",
     "text": [
      "{'name': 'Shanu', 'skills': ['Python', 'DSA', 'Machine Learning'], 'progress': {'Python': 75, 'DSA': 60, 'ML': 40}}\n"
     ]
    }
   ],
   "source": [
    "with open(\"data.json\", \"r\") as file:\n",
    "    load_data=json.load(file)\n",
    "print(load_data)"
   ]
  },
  {
   "cell_type": "code",
   "execution_count": 19,
   "id": "f3e5a244-6944-459c-87d7-e53e413dbe24",
   "metadata": {},
   "outputs": [
    {
     "name": "stdout",
     "output_type": "stream",
     "text": [
      "0.10546875 KB\n"
     ]
    }
   ],
   "source": [
    "import os\n",
    "\n",
    "file_path=\"data.pkl\"\n",
    "\n",
    "file_size=os.path.getsize(file_path)\n",
    "\n",
    "print(file_size/1024, \"KB\")"
   ]
  },
  {
   "cell_type": "code",
   "execution_count": 20,
   "id": "872c4985-31da-47dd-a0ab-3f9f821a9f93",
   "metadata": {},
   "outputs": [
    {
     "name": "stdout",
     "output_type": "stream",
     "text": [
      "0.1123046875 KB\n"
     ]
    }
   ],
   "source": [
    "import os\n",
    "\n",
    "file_path=\"data.json\"\n",
    "\n",
    "file_size=os.path.getsize(file_path)\n",
    "\n",
    "print(file_size/1024, \"KB\")"
   ]
  },
  {
   "cell_type": "code",
   "execution_count": 22,
   "id": "8f7ef8ad-5a5d-48ba-954f-a283d20d9fe7",
   "metadata": {},
   "outputs": [
    {
     "name": "stdout",
     "output_type": "stream",
     "text": [
      "Data Successfully Saved\n",
      "{'name': 'Shanu', 'skills': ['Python', 'DSA', 'Machine Learning'], 'progress': {'Python': 75, 'DSA': 60, 'ML': 40}}\n",
      "Json data successfully saved\n",
      "{'name': 'Shanu', 'skills': ['Python', 'DSA', 'Machine Learning'], 'progress': {'Python': 75, 'DSA': 60, 'ML': 40}}\n",
      "pickle file size:  108\n",
      "pickle file size:  115\n"
     ]
    }
   ],
   "source": [
    "data = {\n",
    "    \"name\": \"Shanu\",\n",
    "    \"skills\": [\"Python\", \"DSA\", \"Machine Learning\"],\n",
    "    \"progress\": {\"Python\": 75, \"DSA\": 60, \"ML\": 40}\n",
    "}\n",
    "\n",
    "import pickle\n",
    "import json\n",
    "import os\n",
    "\n",
    "with open(\"data_check.pkl\", \"wb\") as file:\n",
    "    pickle.dump(data,file)\n",
    "print(\"Data Successfully Saved\")\n",
    "\n",
    "with open(\"data_check.pkl\", \"rb\") as file:\n",
    "    load_data=pickle.load(file)\n",
    "print(load_data)\n",
    "\n",
    "with open(\"data_check.json\", \"w\") as file:\n",
    "    json.dump(load_data, file)\n",
    "print(\"Json data successfully saved\")\n",
    "\n",
    "with open(\"data_check.json\", \"r\") as file:\n",
    "    json_data=json.load(file)\n",
    "print(json_data)\n",
    "\n",
    "\n",
    "file_path_pkl=\"data_check.pkl\"\n",
    "file_path_json=\"data_check.json\"\n",
    "\n",
    "print(\"pickle file size: \", os.path.getsize(file_path_pkl))\n",
    "print(\"pickle file size: \", os.path.getsize(file_path_json))\n"
   ]
  },
  {
   "cell_type": "code",
   "execution_count": 26,
   "id": "e8778495-5210-4296-833b-092e540d3a1b",
   "metadata": {},
   "outputs": [],
   "source": [
    "import json\n",
    "from datetime import datetime\n",
    "data = {\n",
    "    \"name\": \"Shanu\",\n",
    "    \"skills\": [\"Python\", \"DSA\", \"Machine Learning\"],\n",
    "    \"progress\": {\"Python\": 75, \"DSA\": 60, \"ML\": 40},\n",
    "    \"last_updated\": datetime.now()\n",
    "}\n",
    "\n",
    "# Customize the serialization with the following requirements:\n",
    "# Indent the output by 4 spaces.\n",
    "# Use = instead of : for key-value pairs.\n",
    "# Sort the keys alphabetically.\n",
    "# Ensure that last_updated is converted to a readable date-time string.\n",
    "def custom_serializer(obj):\n",
    "    if isinstance(obj, datetime):\n",
    "        return obj.strftime(\"%Y-%m-%d %H:%M:%S\")  # Convert datetime to readable format\n",
    "    raise TypeError(\"Type not serializable\")\n",
    "\n",
    "with open(\"data_check.json\", \"w\") as file:\n",
    "    json.dump(data, file, indent =4, separators=(\",\",\"=\"), sort_keys=True, default=custom_serializer)"
   ]
  },
  {
   "cell_type": "code",
   "execution_count": null,
   "id": "3625f4a6-13c9-4fd9-a284-d669b5a472be",
   "metadata": {},
   "outputs": [],
   "source": []
  },
  {
   "cell_type": "code",
   "execution_count": null,
   "id": "8dd6bbf6-bde5-408b-855b-af615696d9ad",
   "metadata": {},
   "outputs": [],
   "source": []
  }
 ],
 "metadata": {
  "kernelspec": {
   "display_name": "Python 3 (ipykernel)",
   "language": "python",
   "name": "python3"
  },
  "language_info": {
   "codemirror_mode": {
    "name": "ipython",
    "version": 3
   },
   "file_extension": ".py",
   "mimetype": "text/x-python",
   "name": "python",
   "nbconvert_exporter": "python",
   "pygments_lexer": "ipython3",
   "version": "3.9.6"
  }
 },
 "nbformat": 4,
 "nbformat_minor": 5
}
