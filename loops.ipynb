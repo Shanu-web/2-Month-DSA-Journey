{
 "cells": [
  {
   "cell_type": "code",
   "execution_count": 1,
   "id": "9e029ea4-bab2-4226-9aa3-bf77e71623c1",
   "metadata": {},
   "outputs": [],
   "source": [
    "### Day 2: loops"
   ]
  },
  {
   "cell_type": "code",
   "execution_count": 3,
   "id": "810084c7-44f9-4510-bfd7-ade013880be6",
   "metadata": {},
   "outputs": [
    {
     "name": "stdout",
     "output_type": "stream",
     "text": [
      "1\n",
      "2\n",
      "3\n",
      "4\n",
      "5\n"
     ]
    }
   ],
   "source": [
    "## For loop\n",
    "\n",
    "for i in range(1,6):\n",
    "    print(i)\n",
    "\n",
    "# for keywoard hai jo loop ko define krta hai.\n",
    "# i ek variable hai jo loop ke andar iterate krne ke liye new values leta hai\n",
    "#range(1,6) ek function hai jo sequnce banata ahai 1 se 5 tak"
   ]
  },
  {
   "cell_type": "code",
   "execution_count": 7,
   "id": "14ade85d-04d4-4317-843b-3557c3973ff1",
   "metadata": {},
   "outputs": [
    {
     "name": "stdout",
     "output_type": "stream",
     "text": [
      "2\n",
      "4\n",
      "6\n",
      "8\n"
     ]
    }
   ],
   "source": [
    "#Q--> print even numbers within range 1 to 10\n",
    "\n",
    "for i in range(2,10,2):\n",
    "    print(i)"
   ]
  },
  {
   "cell_type": "code",
   "execution_count": 9,
   "id": "a12a9417-d132-41f1-851d-57a59b547572",
   "metadata": {},
   "outputs": [
    {
     "name": "stdout",
     "output_type": "stream",
     "text": [
      "1\n",
      "2\n",
      "3\n",
      "4\n",
      "5\n"
     ]
    }
   ],
   "source": [
    "# while loop: \n",
    "i =1\n",
    "while i<=5:\n",
    "    print(i)\n",
    "    i+=1"
   ]
  },
  {
   "cell_type": "code",
   "execution_count": 12,
   "id": "70beb890-8e9f-4dfc-8c4c-90f7c253b897",
   "metadata": {},
   "outputs": [
    {
     "name": "stdout",
     "output_type": "stream",
     "text": [
      "U \n",
      "U U \n",
      "U U U \n",
      "U U U U \n",
      "U U U U U \n"
     ]
    }
   ],
   "source": [
    "# Nested loop:\n",
    "\n",
    "for i in range(1,6):  ## control rows\n",
    "    for j in range(i): ## stars ke count ko control krta hai\n",
    "        print(\"*\", end=' ') ## stop the cursor going to next line\n",
    "    print() ## for chnaging the line"
   ]
  },
  {
   "cell_type": "code",
   "execution_count": 14,
   "id": "79262745-6b17-40ef-a0e0-e819d492d521",
   "metadata": {},
   "outputs": [
    {
     "name": "stdout",
     "output_type": "stream",
     "text": [
      "sum: 55\n"
     ]
    }
   ],
   "source": [
    "### write a loop to calculate the sum of numbers from 1 to 10\n",
    "sum=0\n",
    "for i in range (1,11):\n",
    "    sum=sum+i\n",
    "print(f\"sum: {sum}\")\n",
    "\n"
   ]
  },
  {
   "cell_type": "code",
   "execution_count": 19,
   "id": "59c9ff33-776f-4bf1-971b-a670869745d5",
   "metadata": {},
   "outputs": [
    {
     "name": "stdout",
     "output_type": "stream",
     "text": [
      "1,3,5,7,9,11,13,15,17,19,"
     ]
    }
   ],
   "source": [
    "### print all odd numbers in range 1 to 20\n",
    "i = 1\n",
    "while i<=20:\n",
    "    if(i%2 !=0):\n",
    "        print(i, end =',')\n",
    "    i+=1"
   ]
  },
  {
   "cell_type": "code",
   "execution_count": 26,
   "id": "379cecbb-f73f-434e-b0d4-0ef17e33217a",
   "metadata": {},
   "outputs": [
    {
     "name": "stdin",
     "output_type": "stream",
     "text": [
      "Enter a number: 123\n"
     ]
    },
    {
     "name": "stdout",
     "output_type": "stream",
     "text": [
      "Reversed Number: 321\n"
     ]
    }
   ],
   "source": [
    "## use a while loop to reverse a number: 123 ->321\n",
    "\n",
    "number = input(\"Enter a number:\")\n",
    "num=int(number)\n",
    "rev_num=0\n",
    "while num > 0:\n",
    "    rem=num%10 ## get last digit\n",
    "    rev_num=(rev_num*10)+rem\n",
    "    num=num//10 #remove last digit from the original number\n",
    "print(f\"Reversed Number: {rev_num}\")"
   ]
  },
  {
   "cell_type": "code",
   "execution_count": 35,
   "id": "c81bf4b7-770e-458c-ac6f-1aaf03831b38",
   "metadata": {},
   "outputs": [
    {
     "name": "stdout",
     "output_type": "stream",
     "text": [
      "1 \n",
      "1 2 \n",
      "1 2 3 \n",
      "1 2 3 4 \n",
      "1 2 3 4 5 \n"
     ]
    }
   ],
   "source": [
    "## Create a triangle parren\n",
    "for i in range(1,6):\n",
    "    for j in range(1,i+1):\n",
    "        print(j, end=' ')\n",
    "    print()"
   ]
  },
  {
   "cell_type": "code",
   "execution_count": null,
   "id": "f948e4f4-16ea-40a7-a09f-a12edbe01a34",
   "metadata": {},
   "outputs": [],
   "source": []
  }
 ],
 "metadata": {
  "kernelspec": {
   "display_name": "Python 3 (ipykernel)",
   "language": "python",
   "name": "python3"
  },
  "language_info": {
   "codemirror_mode": {
    "name": "ipython",
    "version": 3
   },
   "file_extension": ".py",
   "mimetype": "text/x-python",
   "name": "python",
   "nbconvert_exporter": "python",
   "pygments_lexer": "ipython3",
   "version": "3.9.6"
  }
 },
 "nbformat": 4,
 "nbformat_minor": 5
}
