{
 "cells": [
  {
   "cell_type": "code",
   "execution_count": 1,
   "id": "8b29a662-746e-433b-8682-4e11048698f0",
   "metadata": {},
   "outputs": [],
   "source": [
    "## What are functions ?\n",
    "\n",
    "# functions ek block of code hai jo specific task perform krta hai.\n",
    "\n",
    "#Example: Agar mujhe 2 numbers ka sum krna ho, to ek function bana skte hai and usse use kr skte hai jb v humme sum krna ho"
   ]
  },
  {
   "cell_type": "code",
   "execution_count": 2,
   "id": "1d69e44a-3e9e-4487-97b3-4975a7d15021",
   "metadata": {},
   "outputs": [],
   "source": [
    "## functions are divided in 2 parts\n",
    "\n",
    "# buit in function=---> print()\n",
    "# user defined function --> hum khud lkikhte hai\n",
    "\n",
    "\n",
    "## Function Syntax:\n",
    "\n",
    "def function_name(parameters):\n",
    "    ### code block\n",
    "    return value"
   ]
  },
  {
   "cell_type": "code",
   "execution_count": 3,
   "id": "2b82f3cb-3798-40f3-ae1e-676f1028197f",
   "metadata": {},
   "outputs": [
    {
     "name": "stdout",
     "output_type": "stream",
     "text": [
      "5\n"
     ]
    }
   ],
   "source": [
    "## Sum of two numbers\n",
    "\n",
    "def add_numbers(a,b): #function defination\n",
    "    return a+b\n",
    "\n",
    "result = add_numbers(2,3)\n",
    "print(result)\n",
    "\n",
    "# def keyword for defining the function\n",
    "## a or b parameters hai jo function ko input deta hai\n",
    "\n",
    "#return a+ b return function result\n"
   ]
  },
  {
   "cell_type": "code",
   "execution_count": 6,
   "id": "05e63575-0998-4170-959e-b9fb57cc9d1e",
   "metadata": {},
   "outputs": [
    {
     "name": "stdout",
     "output_type": "stream",
     "text": [
      "Hello Dost\n",
      "Hello Shanu\n"
     ]
    }
   ],
   "source": [
    "## Types of arguments:\n",
    "# poistional argument: order ke hisab se pas hota hai\n",
    "# Default argumnets: defult value return krta hai agar argument pas ni hota hai.\n",
    "# Keyword arguments: name ke sath pas hota hai..\n",
    "\n",
    "\n",
    "def greet(name=\"Dost\"):\n",
    "    print(\"Hello\", name)\n",
    "greet()\n",
    "greet(\"Shanu\")"
   ]
  },
  {
   "cell_type": "code",
   "execution_count": 8,
   "id": "cfa2c38e-49c2-411d-8975-3c0ee8ed82e0",
   "metadata": {},
   "outputs": [
    {
     "name": "stdout",
     "output_type": "stream",
     "text": [
      "Factorial:  120\n"
     ]
    }
   ],
   "source": [
    "# Factorial function:\n",
    "\n",
    "#5: 1*2*3*4*5 = 120  ## 0-->1 and 1 -->1\n",
    "\n",
    "def factorial(n):\n",
    "    if n==0 or n==1:\n",
    "        return 1\n",
    "    else:\n",
    "        return n*factorial(n-1)\n",
    "\n",
    "print(\"Factorial: \", factorial(5))"
   ]
  },
  {
   "cell_type": "code",
   "execution_count": 9,
   "id": "ce70c133-1de2-4aa4-bb33-2f8aa9383069",
   "metadata": {},
   "outputs": [
    {
     "name": "stdout",
     "output_type": "stream",
     "text": [
      "numeber is Prime: True\n",
      "numeber is Prime: False\n"
     ]
    }
   ],
   "source": [
    "##Check prime number\n",
    "\n",
    "def is_prime(n):\n",
    "    if n<=1:\n",
    "        return False\n",
    "    for i in range(2, int(n**0.5) +1):\n",
    "        if n%i==0:\n",
    "            return False\n",
    "    return True\n",
    "\n",
    "print(\"numeber is Prime: \", is_prime(7))\n",
    "print(\"numeber is Prime: \" , is_prime(8))"
   ]
  },
  {
   "cell_type": "code",
   "execution_count": null,
   "id": "dd21501e-c5d8-4152-9e00-adfc0ff170c3",
   "metadata": {},
   "outputs": [],
   "source": [
    "# Funtions:\n",
    "\n",
    "# code reualbe banata hai\n",
    "# code easily read kr skte hai\n",
    "# complex lofgic can be divided in small module"
   ]
  }
 ],
 "metadata": {
  "kernelspec": {
   "display_name": "Python 3 (ipykernel)",
   "language": "python",
   "name": "python3"
  },
  "language_info": {
   "codemirror_mode": {
    "name": "ipython",
    "version": 3
   },
   "file_extension": ".py",
   "mimetype": "text/x-python",
   "name": "python",
   "nbconvert_exporter": "python",
   "pygments_lexer": "ipython3",
   "version": "3.9.6"
  }
 },
 "nbformat": 4,
 "nbformat_minor": 5
}
