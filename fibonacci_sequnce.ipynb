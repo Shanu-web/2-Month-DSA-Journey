{
 "cells": [
  {
   "cell_type": "code",
   "execution_count": null,
   "id": "2ddc75ce-7cd4-4e0e-bd04-262f95ecadba",
   "metadata": {},
   "outputs": [],
   "source": [
    "## Fibonacci Sequnce in Python:\n",
    "\n",
    "\n",
    "# Fibonacci Sequence:\n",
    "\n",
    "\n",
    "# 0,1,(0+1) 1,(1+1)2,(2+1)3, (3+2)5....."
   ]
  },
  {
   "cell_type": "code",
   "execution_count": 2,
   "id": "dbc235c8-1e33-4b0e-88b6-3dd34ed893fd",
   "metadata": {},
   "outputs": [
    {
     "name": "stdout",
     "output_type": "stream",
     "text": [
      "Fibonannci Sequnce: [0, 1, 1]\n"
     ]
    }
   ],
   "source": [
    "## Iterative approch:\n",
    "\n",
    "def fibonacci_seq(n):\n",
    "    if n<=0:\n",
    "        return \"Invalid input, must be positive\"\n",
    "    if n==1:\n",
    "        return [0]\n",
    "    if n==2:\n",
    "        return [0,1]\n",
    "\n",
    "    fib_seq=[0,1]\n",
    "\n",
    "    for i in range(2,n):\n",
    "        fib_seq.append(fib_seq[-1]+fib_seq[-2])\n",
    "    return fib_seq\n",
    "\n",
    "\n",
    "print(\"Fibonannci Sequnce:\", fibonacci_seq(3))\n",
    "    "
   ]
  },
  {
   "cell_type": "code",
   "execution_count": 3,
   "id": "41bce5c4-fa8c-4e37-8e20-3e3d935b2fdf",
   "metadata": {},
   "outputs": [
    {
     "name": "stdout",
     "output_type": "stream",
     "text": [
      "Fibonnaci numbner: 55\n"
     ]
    }
   ],
   "source": [
    "### Recusrive approach nth Fibonnaci numbner:\n",
    "\n",
    "def fibonacci_recu(n):\n",
    "    if n<=1:\n",
    "        return n\n",
    "    return(fibonacci_recu(n-1)+fibonacci_recu(n-2))\n",
    "\n",
    "print(\"Fibonnaci numbner:\", fibonacci_recu(10))\n"
   ]
  },
  {
   "cell_type": "code",
   "execution_count": 5,
   "id": "74e6c470-2711-4e36-858d-168851ae5a4d",
   "metadata": {},
   "outputs": [
    {
     "name": "stdout",
     "output_type": "stream",
     "text": [
      "Fibonnaci Number\n"
     ]
    }
   ],
   "source": [
    "## lets check if a number is a fibonnaci number:\n",
    "\n",
    "def is_fibonnaci(num):\n",
    "    a,b =0,1\n",
    "\n",
    "    # a=0\n",
    "    # b=1\n",
    "    while b<num:\n",
    "        a,b =b,a+b\n",
    "    return b==num or num ==0\n",
    "num=5\n",
    "if is_fibonnaci(num):\n",
    "    print(\"Fibonnaci Number\")\n",
    "else:\n",
    "    print(\"Not fibonnaci Number\")"
   ]
  },
  {
   "cell_type": "code",
   "execution_count": null,
   "id": "049d8cac-2713-4c50-9357-1712b3745161",
   "metadata": {},
   "outputs": [],
   "source": []
  }
 ],
 "metadata": {
  "kernelspec": {
   "display_name": "Python 3 (ipykernel)",
   "language": "python",
   "name": "python3"
  },
  "language_info": {
   "codemirror_mode": {
    "name": "ipython",
    "version": 3
   },
   "file_extension": ".py",
   "mimetype": "text/x-python",
   "name": "python",
   "nbconvert_exporter": "python",
   "pygments_lexer": "ipython3",
   "version": "3.9.6"
  }
 },
 "nbformat": 4,
 "nbformat_minor": 5
}
