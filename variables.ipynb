{
 "cells": [
  {
   "cell_type": "code",
   "execution_count": 12,
   "id": "1be5fbb1-ef44-47b7-8ac8-1f5aeefd04d5",
   "metadata": {},
   "outputs": [],
   "source": [
    "## Varibale and Data types"
   ]
  },
  {
   "cell_type": "code",
   "execution_count": 13,
   "id": "cd2f5fbe-e953-4341-b687-d1269db290f3",
   "metadata": {},
   "outputs": [],
   "source": [
    "name = \"Shanu\"\n",
    "age = 27\n",
    "height = 5.11\n",
    "is_learning = True"
   ]
  },
  {
   "cell_type": "code",
   "execution_count": 14,
   "id": "62669fb4-fb0f-4be7-b2e7-33ab8046e0fe",
   "metadata": {},
   "outputs": [],
   "source": [
    "## Data types"
   ]
  },
  {
   "cell_type": "code",
   "execution_count": 15,
   "id": "da65348b-5f95-47c1-bc2b-46052eb63f75",
   "metadata": {},
   "outputs": [],
   "source": [
    "# String -> Text ke liye exmaple \"Hello World\"\n",
    "# Integer: pure numbers ke liye.  23\n",
    "# Float: decimal numbers ke liye 4.5\n",
    "# Boolean: True ya false"
   ]
  },
  {
   "cell_type": "code",
   "execution_count": 16,
   "id": "c13c01f5-d4bb-421d-9ece-4290e450d36e",
   "metadata": {},
   "outputs": [],
   "source": [
    "### Small exmaple for "
   ]
  },
  {
   "cell_type": "code",
   "execution_count": 1,
   "id": "8d939a43-ce69-4c9a-9ff1-ad2333b8b39a",
   "metadata": {},
   "outputs": [],
   "source": [
    "name = \"Shanu\"\n",
    "age = 27\n",
    "height = 5.11\n",
    "is_learning = True"
   ]
  },
  {
   "cell_type": "code",
   "execution_count": 18,
   "id": "a53f023e-e99e-48ca-8ad3-c9a2731d9cd3",
   "metadata": {},
   "outputs": [
    {
     "name": "stdout",
     "output_type": "stream",
     "text": [
      "Name:  Shanu\n",
      "Age:  27\n",
      "Height:  5.11\n",
      "Learning:  True\n"
     ]
    }
   ],
   "source": [
    "print(\"Name: \", name)\n",
    "print(\"Age: \", age)\n",
    "print(\"Height: \", height)\n",
    "print(\"Learning: \", is_learning)"
   ]
  },
  {
   "cell_type": "code",
   "execution_count": 19,
   "id": "19635757-b752-4a5c-aa79-1dca536d029b",
   "metadata": {},
   "outputs": [],
   "source": [
    "### Why variables and Datatype matters\n",
    "# Varibles and Datatypes har programming language ka ek base hota hai, agar aapko inka sahi use samajh aata hai, \n",
    "# toh aap complex logics aur program build kr skte ho.\n"
   ]
  },
  {
   "cell_type": "code",
   "execution_count": 2,
   "id": "d7f810d1-4258-461e-b110-7b31d19ce2c7",
   "metadata": {},
   "outputs": [
    {
     "name": "stdout",
     "output_type": "stream",
     "text": [
      "Name: Shanu\n"
     ]
    }
   ],
   "source": [
    "print(f\"Name: {name}\")"
   ]
  },
  {
   "cell_type": "code",
   "execution_count": 7,
   "id": "231911f0-2e52-40f8-842b-62a1c0abb54e",
   "metadata": {},
   "outputs": [
    {
     "name": "stdout",
     "output_type": "stream",
     "text": [
      "* \n",
      "* * \n",
      "* * * \n",
      "* * * * \n",
      "* * * * * \n",
      "* * * * * * \n",
      "* * * * * * * \n",
      "* * * * * * * * \n",
      "* * * * * * * * * \n",
      "* * * * * * * * * * \n"
     ]
    }
   ],
   "source": [
    "for i in range (1, 11):\n",
    "    for j in range(i):\n",
    "        print('*', end=' ')\n",
    "    print()"
   ]
  },
  {
   "cell_type": "code",
   "execution_count": null,
   "id": "c51f667f-84e0-4f00-8b02-f4fd9f59baf8",
   "metadata": {},
   "outputs": [],
   "source": []
  }
 ],
 "metadata": {
  "kernelspec": {
   "display_name": "Python 3 (ipykernel)",
   "language": "python",
   "name": "python3"
  },
  "language_info": {
   "codemirror_mode": {
    "name": "ipython",
    "version": 3
   },
   "file_extension": ".py",
   "mimetype": "text/x-python",
   "name": "python",
   "nbconvert_exporter": "python",
   "pygments_lexer": "ipython3",
   "version": "3.9.6"
  }
 },
 "nbformat": 4,
 "nbformat_minor": 5
}
