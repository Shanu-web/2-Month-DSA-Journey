{
 "cells": [
  {
   "cell_type": "code",
   "execution_count": 2,
   "id": "5131bf98-27fc-418b-aaec-661548ea2c18",
   "metadata": {},
   "outputs": [
    {
     "name": "stdout",
     "output_type": "stream",
     "text": [
      "1\n",
      "22\n",
      "333\n",
      "4444\n",
      "55555\n"
     ]
    }
   ],
   "source": [
    "## Pattern using nested loop:\n",
    "\n",
    "for i in range(1,6):\n",
    "    for j in range(i):\n",
    "        print(i, end='')\n",
    "    print()"
   ]
  },
  {
   "cell_type": "code",
   "execution_count": 11,
   "id": "3a3219d8-d51f-49a3-9342-f39861e57ade",
   "metadata": {},
   "outputs": [
    {
     "name": "stdout",
     "output_type": "stream",
     "text": [
      "625\n"
     ]
    }
   ],
   "source": [
    "#Question 2: Write a Python program to calculate the sum of all odd numbers between 1 and 50 using a while loop.\n",
    "i=1\n",
    "sum=0\n",
    "while i<=50:\n",
    "    if(i%2 !=0):\n",
    "        sum=sum+i\n",
    "    i+=1\n",
    "print(sum)"
   ]
  },
  {
   "cell_type": "code",
   "execution_count": 4,
   "id": "e8850931-6844-4145-8320-e2298eda9be6",
   "metadata": {},
   "outputs": [
    {
     "name": "stdout",
     "output_type": "stream",
     "text": [
      "1 2 3 \n",
      "2 4 6 \n",
      "3 6 9 \n"
     ]
    }
   ],
   "source": [
    "for i in range(1, 4):\n",
    "    for j in range(1, 4):\n",
    "        print(i * j, end=' ')\n",
    "    print()\n"
   ]
  },
  {
   "cell_type": "code",
   "execution_count": 7,
   "id": "fb329fb6-eef3-43ff-a521-3a4a3663ebad",
   "metadata": {},
   "outputs": [
    {
     "name": "stdin",
     "output_type": "stream",
     "text": [
      "enter a number: 20\n"
     ]
    },
    {
     "name": "stdout",
     "output_type": "stream",
     "text": [
      "Number is not divisble by 5 and 7\n"
     ]
    }
   ],
   "source": [
    "\n",
    "##Question 4: Write a Python program that checks if a given number is divisible by both 5 and 7.\n",
    "num=int(input('enter a number:'))\n",
    "\n",
    "if(num %5 ==0 and num%7==0):\n",
    "    print(\"Number is divisble by 5 and 7\")\n",
    "else:\n",
    "    print(\"Number is not divisble by 5 and 7\")\n",
    "\n"
   ]
  },
  {
   "cell_type": "code",
   "execution_count": 8,
   "id": "9d7521ec-fe80-4f93-9c18-251b487331ea",
   "metadata": {},
   "outputs": [
    {
     "name": "stdin",
     "output_type": "stream",
     "text": [
      "Enter a number: 23\n"
     ]
    },
    {
     "name": "stdout",
     "output_type": "stream",
     "text": [
      "Positive\n"
     ]
    }
   ],
   "source": [
    "#Question 5: Write a Python program that takes a number as input and:\n",
    "\n",
    "# Prints \"Positive\" if the number is greater than 0.\n",
    "# Prints \"Negative\" if the number is less than 0.\n",
    "# Prints \"Zero\" if the number is 0.\n",
    "\n",
    "num=int(input(\"Enter a number:\"))\n",
    "\n",
    "if(num>0):\n",
    "    print(\"Positive\")\n",
    "elif(num<0):\n",
    "    print(\"Negative\")\n",
    "else:\n",
    "    print(\"Zero\")\n"
   ]
  },
  {
   "cell_type": "code",
   "execution_count": 9,
   "id": "a97642ca-ebcc-4c91-9de2-c18dd7a74d61",
   "metadata": {},
   "outputs": [
    {
     "name": "stdout",
     "output_type": "stream",
     "text": [
      "x is between 10 and 20\n"
     ]
    }
   ],
   "source": [
    "##Question 6: What will be the output of the following code? Explain why.\n",
    "\n",
    "x = 15\n",
    "if x > 10 and x < 20:\n",
    "    print(\"x is between 10 and 20\")\n",
    "elif x > 20:\n",
    "    print(\"x is greater than 20\")\n",
    "else:\n",
    "    print(\"x is 10 or less\")\n",
    "## ANS: x is between 10 and 20 as first condition is satisfied"
   ]
  },
  {
   "cell_type": "code",
   "execution_count": 10,
   "id": "380ff233-11a1-4a5b-931c-36b1d560f0d9",
   "metadata": {},
   "outputs": [
    {
     "name": "stdout",
     "output_type": "stream",
     "text": [
      "3,6,9,12,18,21,24,27,33,36,39,42,48,51,54,57,63,66,69,72,78,81,84,87,93,96,99,"
     ]
    }
   ],
   "source": [
    "#Question 7: Write a Python program to print all numbers between 1 and 100 that are:\n",
    "#Divisible by 3 but not by 5.\n",
    "\n",
    "for i in range(1,100):\n",
    "    if(i%3==0 and i%5!=0):\n",
    "        print(i, end =',')"
   ]
  },
  {
   "cell_type": "code",
   "execution_count": 1,
   "id": "d85883f3-166f-4bc7-8eba-7f1562724ad1",
   "metadata": {},
   "outputs": [
    {
     "name": "stdin",
     "output_type": "stream",
     "text": [
      "enter the number: 10\n"
     ]
    },
    {
     "name": "stdout",
     "output_type": "stream",
     "text": [
      "[0, 1, 1, 2, 3, 5, 8, 13, 21, 34]\n"
     ]
    }
   ],
   "source": [
    "## Fibonacci Sequnce:\n",
    "\n",
    "def fibonacci_iterative(n):\n",
    "    fib_seq=[0,1]\n",
    "    for i in range(2,n):\n",
    "        fib_seq.append(fib_seq[-1] + fib_seq[-2])\n",
    "    return fib_seq\n",
    "\n",
    "n=int(input(\"enter the number:\"))\n",
    "\n",
    "print(fibonacci_iterative(n))"
   ]
  },
  {
   "cell_type": "code",
   "execution_count": 2,
   "id": "47352946-33d5-4e7f-a135-ddfff33b1ac0",
   "metadata": {},
   "outputs": [
    {
     "name": "stdin",
     "output_type": "stream",
     "text": [
      "Enter the number 10\n"
     ]
    },
    {
     "name": "stdout",
     "output_type": "stream",
     "text": [
      "55\n"
     ]
    }
   ],
   "source": [
    "## Fibonacci Recursive\n",
    "\n",
    "def fibonacci_recursive(n):\n",
    "    if n<=1:\n",
    "        return n\n",
    "    return fibonacci_recursive(n-1) + fibonacci_recursive(n-2)\n",
    "\n",
    "n=int(input(\"Enter the number\"))\n",
    "print(fibonacci_recursive(n))"
   ]
  },
  {
   "cell_type": "code",
   "execution_count": 1,
   "id": "ce5c6cb2-524d-4456-8f5b-c0511c8d021a",
   "metadata": {},
   "outputs": [
    {
     "name": "stdout",
     "output_type": "stream",
     "text": [
      "Jhon\n",
      "20\n",
      "Software Developer\n"
     ]
    }
   ],
   "source": [
    "#Tuples: It's an orderd collection, it is immutable\n",
    "\n",
    "#packing creation\n",
    "person=(\"Jhon\",20,\"Software Developer\")\n",
    "\n",
    "#unpacking assigning the values to each varibales\n",
    "name, age, profession = person\n",
    "\n",
    "print(name)\n",
    "print(age)\n",
    "print(profession)"
   ]
  },
  {
   "cell_type": "code",
   "execution_count": 3,
   "id": "b0cd2ae7-ed54-4eeb-a88b-7a6ee763ffef",
   "metadata": {},
   "outputs": [
    {
     "name": "stdout",
     "output_type": "stream",
     "text": [
      "{1: 3, 2: 2, 3: 3, 4: 3, 5: 3}\n"
     ]
    }
   ],
   "source": [
    "## Count frequebcy of elements in tuple\n",
    "\n",
    "numbers=(1,1,1,2,3,4,2,3,5,5,5,4,3,4)\n",
    "freq={}\n",
    "for i in numbers:\n",
    "    freq[i]=freq.get(i,0)+1\n",
    "print(freq)"
   ]
  },
  {
   "cell_type": "code",
   "execution_count": 4,
   "id": "c6751da2-4d02-44ae-96d8-b42414acb91d",
   "metadata": {},
   "outputs": [
    {
     "name": "stdout",
     "output_type": "stream",
     "text": [
      "4\n",
      "40\n",
      "10\n",
      "100\n",
      "[40, 30, 20, 10]\n"
     ]
    }
   ],
   "source": [
    "numbers =[10,20,30,40]\n",
    "\n",
    "## List built in functions\n",
    "# length---> len()\n",
    "\n",
    "print(len(numbers))\n",
    "\n",
    "#max()\n",
    "print(max(numbers))\n",
    "\n",
    "#min()\n",
    "print(min(numbers))\n",
    "\n",
    "##sum()--> sum of all the elemnts in the lsists(for numeric values))\n",
    "print(sum(numbers))\n",
    "\n",
    "\n",
    "## sorted()\n",
    "print(sorted(numbers, reverse=True))\n",
    "\n"
   ]
  },
  {
   "cell_type": "code",
   "execution_count": 5,
   "id": "c322a0c1-b2d0-4f54-b591-32dd9af89bc8",
   "metadata": {},
   "outputs": [
    {
     "name": "stdout",
     "output_type": "stream",
     "text": [
      "['S', 'h', 'a', 'n', 'u']\n"
     ]
    }
   ],
   "source": [
    "#list() converts iterable string, tuple into list\n",
    "\n",
    "name =\"Shanu\"\n",
    "\n",
    "print(list(name))"
   ]
  },
  {
   "cell_type": "code",
   "execution_count": 6,
   "id": "ac5e0055-9f17-4e9c-84d8-e92a82885305",
   "metadata": {},
   "outputs": [
    {
     "name": "stdout",
     "output_type": "stream",
     "text": [
      "['shanu', 'rajesh', 'ram']\n"
     ]
    }
   ],
   "source": [
    "## tuple conversion\n",
    "\n",
    "name=(\"shanu\", \"rajesh\", \"ram\")\n",
    "\n",
    "print(list(name))"
   ]
  },
  {
   "cell_type": "code",
   "execution_count": 7,
   "id": "ce26aee8-0a63-43c2-84c2-8911891511c6",
   "metadata": {},
   "outputs": [
    {
     "name": "stdout",
     "output_type": "stream",
     "text": [
      "['abhi', 'shanu', 'ravi']\n"
     ]
    }
   ],
   "source": [
    "### Set conversion\n",
    "\n",
    "set_data={\"shanu\", \"ravi\", \"abhi\"}\n",
    "print(list(set_data))"
   ]
  },
  {
   "cell_type": "code",
   "execution_count": 11,
   "id": "80510faf-0863-4ab5-9105-ca7e319db848",
   "metadata": {},
   "outputs": [
    {
     "name": "stdout",
     "output_type": "stream",
     "text": [
      "['a', 'b', 'c']\n",
      "[1, 2, 3]\n",
      "[('a', 1), ('b', 2), ('c', 3)]\n"
     ]
    }
   ],
   "source": [
    "##dictionary keys list\n",
    "\n",
    "dict_data={\"a\":1,\"b\":2,\"c\":3}\n",
    "print(list((dict_data).keys()))\n",
    "\n",
    "\n",
    "##dictionary values list\n",
    "\n",
    "print(list((dict_data).values()))\n",
    "\n",
    "###\n",
    "print(list(dict_data.items()))"
   ]
  },
  {
   "cell_type": "code",
   "execution_count": 12,
   "id": "b9c31323-8d88-4d73-91c2-42584bc0bbba",
   "metadata": {},
   "outputs": [
    {
     "name": "stdout",
     "output_type": "stream",
     "text": [
      "[1, 2, 3, 4, 5]\n"
     ]
    }
   ],
   "source": [
    "## Range data\n",
    "range_data=range(1,6)\n",
    "print(list(range_data))"
   ]
  },
  {
   "cell_type": "code",
   "execution_count": 14,
   "id": "4589a321-3b1a-49ad-9c0f-107c114cf06e",
   "metadata": {},
   "outputs": [
    {
     "name": "stdout",
     "output_type": "stream",
     "text": [
      "Index: 0 Vlaue:apple\n",
      "Index: 1 Vlaue:banana\n",
      "Index: 2 Vlaue:cheerry\n",
      "Index: 1 Value: apple\n",
      "Index: 2 Value: banana\n",
      "Index: 3 Value: cheerry\n"
     ]
    }
   ],
   "source": [
    "## Enumerate()\n",
    "\n",
    "#The first value of each tuple is the index\n",
    "#second value of each tuple is the element from the iterable\n",
    "\n",
    "fruits=['apple', 'banana', 'cheerry']\n",
    "\n",
    "for index,value in enumerate(fruits):\n",
    "    print(f\"Index: {index} Vlaue:{value}\")\n",
    "\n",
    "# we can specify the index start\n",
    "for index, value in enumerate(fruits, start=1):\n",
    "    print(f\"Index: {index} Value: {value}\")"
   ]
  },
  {
   "cell_type": "code",
   "execution_count": 16,
   "id": "0a2b56f9-9e5b-4001-a66f-2080174dcc75",
   "metadata": {},
   "outputs": [
    {
     "name": "stdout",
     "output_type": "stream",
     "text": [
      "even number is10 at index0\n",
      "even number is20 at index2\n"
     ]
    }
   ],
   "source": [
    "## Write a program to find even numebrs with there index\n",
    "\n",
    "numbers=[10,15,20,25]\n",
    "for i,j in enumerate(numbers):\n",
    "    if j%2==0:\n",
    "        print(f\"even number is{j} at index{i}\")\n"
   ]
  },
  {
   "cell_type": "code",
   "execution_count": 19,
   "id": "74ce71f3-2232-46de-9f9b-a440420fc97a",
   "metadata": {},
   "outputs": [
    {
     "name": "stdout",
     "output_type": "stream",
     "text": [
      "['Abhi', 'Amar', 'Alice']\n"
     ]
    }
   ],
   "source": [
    "# filter out the name starting with \"A\"\n",
    "## lambda takes multiple argumets but only one expression, it can be used within the code \n",
    "##where we dont have need of assiging the elemts within a varible\n",
    "name=[\"Shanu\", \"Abhi\", \"Amar\",\"Alice\",\"Bob\"]\n",
    "filtered_names=list(filter(lambda x: x.startswith(\"A\"), name))\n",
    "print(filtered_names)"
   ]
  },
  {
   "cell_type": "code",
   "execution_count": 23,
   "id": "6adf7cf8-fb76-4174-adf5-36dea0013eb0",
   "metadata": {},
   "outputs": [
    {
     "data": {
      "text/plain": [
       "[1, 2, 3, 4, 5, 6]"
      ]
     },
     "execution_count": 23,
     "metadata": {},
     "output_type": "execute_result"
    }
   ],
   "source": [
    "## Write a function to remove duplicates:\n",
    "\n",
    "# def remove_duplicates(lst):\n",
    "#     dup_set=set(lst)\n",
    "#     return list(dup_set)\n",
    "\n",
    "# lst=[1,1,2,2,2,3,4,5,6]\n",
    "# remove_duplicates(lst)\n",
    "\n",
    "\n",
    "## To maintain order\n",
    "\n",
    "def rem_dup(lst):\n",
    "    unique=[]\n",
    "    for i in lst:\n",
    "        if i not in unique:\n",
    "            unique.append(i)\n",
    "    return unique\n",
    "\n",
    "lst=[1,1,2,2,2,3,4,5,6]\n",
    "rem_dup(lst)"
   ]
  },
  {
   "cell_type": "code",
   "execution_count": 28,
   "id": "2734fc45-1d32-4b7d-b008-974b737ac089",
   "metadata": {},
   "outputs": [
    {
     "data": {
      "text/plain": [
       "7"
      ]
     },
     "execution_count": 28,
     "metadata": {},
     "output_type": "execute_result"
    }
   ],
   "source": [
    "def count_vowels(txt):\n",
    "    vowels =[\"a\",\"e\",\"i\",\"o\",\"u\"]\n",
    "    vowels_count=0\n",
    "    # for i in txt:\n",
    "    #     if i in vowels:\n",
    "    #         vowels_count+=1\n",
    "    \n",
    "    vowels_count=sum(1 for i in txt if i in vowels)\n",
    "    return vowels_count\n",
    "text = \"Shanu2.0 is awesome!\"\n",
    "count_vowels(text)"
   ]
  },
  {
   "cell_type": "code",
   "execution_count": 32,
   "id": "d0e9255c-533c-42da-98b5-59522258c313",
   "metadata": {},
   "outputs": [
    {
     "name": "stdout",
     "output_type": "stream",
     "text": [
      "[1, 4, 9, 16, 25]\n"
     ]
    }
   ],
   "source": [
    "def square_numbers(num):\n",
    "    return num**2\n",
    "\n",
    "numbers=[1,2,3,4,5]\n",
    "squ_number=map(square_numbers,numbers)\n",
    "print(list(squ_number))"
   ]
  },
  {
   "cell_type": "code",
   "execution_count": 33,
   "id": "cad97f52-e11b-4a2e-9364-0915f2c7927f",
   "metadata": {},
   "outputs": [
    {
     "name": "stdout",
     "output_type": "stream",
     "text": [
      "Index: 0 Value: P\n",
      "Index: 1 Value: y\n",
      "Index: 2 Value: t\n",
      "Index: 3 Value: h\n",
      "Index: 4 Value: o\n",
      "Index: 5 Value: n\n"
     ]
    }
   ],
   "source": [
    "def ind_val(txt):\n",
    "    for i,v in enumerate(txt):\n",
    "        print(f\"Index: {i} Value: {v}\")\n",
    "ind_val(\"Python\")"
   ]
  },
  {
   "cell_type": "code",
   "execution_count": 37,
   "id": "d8771c3b-ad39-4fc7-b314-2f6134a042f4",
   "metadata": {},
   "outputs": [
    {
     "data": {
      "text/plain": [
       "120"
      ]
     },
     "execution_count": 37,
     "metadata": {},
     "output_type": "execute_result"
    }
   ],
   "source": [
    "## Factorial using recursion\n",
    "\n",
    "def rec_fact(n):\n",
    "    if n==1 or n==0:\n",
    "        return 1\n",
    "    return n*rec_fact(n-1)\n",
    "rec_fact(5)\n"
   ]
  },
  {
   "cell_type": "code",
   "execution_count": 52,
   "id": "b89f7421-d78c-4a48-985a-36447e45eaba",
   "metadata": {},
   "outputs": [
    {
     "data": {
      "text/plain": [
       "13"
      ]
     },
     "execution_count": 52,
     "metadata": {},
     "output_type": "execute_result"
    }
   ],
   "source": [
    "def fib_seq(n):\n",
    "    if n==0:\n",
    "        return 0\n",
    "    if n==1:\n",
    "        return 1\n",
    "    return (fib_seq(n-1) + fib_seq(n-2))\n",
    "\n",
    "fib_seq(7)\n",
    "    "
   ]
  },
  {
   "cell_type": "code",
   "execution_count": 45,
   "id": "e41f368c-29e6-4ca4-a22b-53f00479fb75",
   "metadata": {},
   "outputs": [
    {
     "name": "stdout",
     "output_type": "stream",
     "text": [
      "True\n"
     ]
    }
   ],
   "source": [
    "def pali(txt):\n",
    "    cleaned_txt= \"\".join(char.lower() for char in txt if char.isalnum())\n",
    "    return cleaned_txt == cleaned_txt[::-1]\n",
    "print(pali(\"Madam, I'm Adam\"))"
   ]
  },
  {
   "cell_type": "code",
   "execution_count": 49,
   "id": "9b6b512e-9e53-4ddc-a917-2009efedd9ef",
   "metadata": {},
   "outputs": [
    {
     "name": "stdout",
     "output_type": "stream",
     "text": [
      "1 5\n",
      "2 4\n"
     ]
    }
   ],
   "source": [
    "num =[1,2,3,4,5]\n",
    "target =6\n",
    "\n",
    "for i in range(len(num)):\n",
    "    for j in range(i+1,len(num)):\n",
    "        if num[i]+num[j] == target:\n",
    "            print(num[i],num[j])\n"
   ]
  },
  {
   "cell_type": "code",
   "execution_count": 54,
   "id": "71dfaa86-f9a5-45cc-84cb-8ab9a2378be2",
   "metadata": {},
   "outputs": [
    {
     "name": "stdout",
     "output_type": "stream",
     "text": [
      "[(2, 'a'), (3, 'b'), (1, 'c')]\n"
     ]
    }
   ],
   "source": [
    "tuples = [(1, 'c'), (2, 'a'), (3, 'b')]\n",
    "print(sorted(tuples, key=lambda x:x[1]))"
   ]
  },
  {
   "cell_type": "code",
   "execution_count": 56,
   "id": "c2ac5613-adc1-4d74-a1e1-36dc8a959c30",
   "metadata": {},
   "outputs": [
    {
     "name": "stdout",
     "output_type": "stream",
     "text": [
      "[(3, 1), (8, 2), (10, 5), (7, 8)]\n"
     ]
    }
   ],
   "source": [
    "tuples=[(10,5,),(8,2),(7,8),(3,1)]\n",
    "\n",
    "print(sorted(tuples, key=lambda x:x[1]))"
   ]
  },
  {
   "cell_type": "code",
   "execution_count": 57,
   "id": "9530fe08-ca0c-434a-8d51-c9bcc242c38a",
   "metadata": {},
   "outputs": [
    {
     "name": "stdout",
     "output_type": "stream",
     "text": [
      "5\n"
     ]
    }
   ],
   "source": [
    "## Count unique element in a list\n",
    "\n",
    "numbers=[1,2,3,2,3,4,4,5]\n",
    "\n",
    "print(len(list(set(numbers))))"
   ]
  },
  {
   "cell_type": "code",
   "execution_count": 60,
   "id": "45d09ed0-b8f0-49e2-a0c3-0e15a28d0d0d",
   "metadata": {},
   "outputs": [
    {
     "name": "stdout",
     "output_type": "stream",
     "text": [
      "3\n",
      "{1: 1, 2: 6, 3: 8, 4: 1, 5: 1}\n"
     ]
    }
   ],
   "source": [
    "## Find the most frequent element:\n",
    "\n",
    "numbers=[1,2,3,3,3,3,3,3,3,4,5,2,3,2,2,2,2]\n",
    "dic={}\n",
    "for i in numbers:\n",
    "    if i in dic:\n",
    "        dic[i]+=1\n",
    "    else:\n",
    "        dic[i]=1\n",
    "print(max(dic,key=dic.get))\n",
    "print(dic)\n",
    "    "
   ]
  },
  {
   "cell_type": "code",
   "execution_count": 61,
   "id": "0fc380e3-db4a-4573-96ae-d47f5c713150",
   "metadata": {},
   "outputs": [
    {
     "name": "stdout",
     "output_type": "stream",
     "text": [
      "45\n"
     ]
    }
   ],
   "source": [
    "number=[10,20,4,45,99]\n",
    "\n",
    "print(sorted(number)[-2])"
   ]
  },
  {
   "cell_type": "code",
   "execution_count": 62,
   "id": "19659ab6-f280-4943-9682-39325c310649",
   "metadata": {},
   "outputs": [
    {
     "name": "stdout",
     "output_type": "stream",
     "text": [
      "{1: 1, 2: 2, 3: 1, 4: 2, 5: 1}\n"
     ]
    }
   ],
   "source": [
    "numbers=[1,2,2,3,4,4,5]\n",
    "dic={}\n",
    "for i in numbers:\n",
    "    if i in dic:\n",
    "        dic[i]+=1\n",
    "    else:\n",
    "        dic[i]=1\n",
    "\n",
    "print(dic)"
   ]
  },
  {
   "cell_type": "code",
   "execution_count": 65,
   "id": "3a4ddad8-d5cb-45cc-9d20-0f0ec030864e",
   "metadata": {},
   "outputs": [
    {
     "name": "stdout",
     "output_type": "stream",
     "text": [
      "unstoppable is 2.0 Shanu\n"
     ]
    }
   ],
   "source": [
    "## reverse words in sentence:\n",
    "\n",
    "sentence= \"Shanu 2.0 is unstoppable\"\n",
    "rev_sen= (sentence.split(\" \"))[::-1]\n",
    "print(\" \".join(rev_sen))"
   ]
  },
  {
   "cell_type": "code",
   "execution_count": 2,
   "id": "bc427cc1-a5e1-43ca-b8f8-155b0af07e48",
   "metadata": {},
   "outputs": [
    {
     "data": {
      "text/plain": [
       "15"
      ]
     },
     "execution_count": 2,
     "metadata": {},
     "output_type": "execute_result"
    }
   ],
   "source": [
    "## sum of First n Numbers using recurssion:\n",
    "\n",
    "# n=5\n",
    "# expected output:15\n",
    "\n",
    "def cal_sum(n):\n",
    "    if n==0:\n",
    "        return 0\n",
    "    return n+cal_sum(n-1)\n",
    "cal_sum(5)"
   ]
  },
  {
   "cell_type": "code",
   "execution_count": 8,
   "id": "a2a9da9e-c344-4dca-90e9-aa6ee019f041",
   "metadata": {},
   "outputs": [
    {
     "data": {
      "text/plain": [
       "'0.2unahS'"
      ]
     },
     "execution_count": 8,
     "metadata": {},
     "output_type": "execute_result"
    }
   ],
   "source": [
    "# Reverse a String Using Recursion\n",
    "# Write a recursive function to reverse a string.\n",
    "# Input: \"Shanu2.0\"\n",
    "# Expected Output: \"0.2unahS\"\n",
    "\n",
    "def rev_string(txt):\n",
    "    if len(txt)==0:\n",
    "       return \"\"\n",
    "    return txt[-1]+rev_string(txt[:-1])\n",
    "rev_string(\"Shanu2.0\")\n"
   ]
  },
  {
   "cell_type": "code",
   "execution_count": 10,
   "id": "7ca54255-ad8f-48bd-8788-fe37c8924a9a",
   "metadata": {},
   "outputs": [
    {
     "data": {
      "text/plain": [
       "False"
      ]
     },
     "execution_count": 10,
     "metadata": {},
     "output_type": "execute_result"
    }
   ],
   "source": [
    "# Check If a Number is Prime Using Recursion\n",
    "# Write a recursive function to check if a number is prime.\n",
    "# Input: n = 7\n",
    "# Expected Output: True\n",
    "\n",
    "def is_prime(n):\n",
    "    if n<=1:\n",
    "        return False\n",
    "    for i in range(2, int(n**0.5)+1):\n",
    "        if n%i==0:\n",
    "            return False\n",
    "    return True\n",
    "is_prime(6)"
   ]
  },
  {
   "cell_type": "code",
   "execution_count": 13,
   "id": "221d56f1-a301-4049-87f5-e2a5ef0ca204",
   "metadata": {},
   "outputs": [
    {
     "name": "stdout",
     "output_type": "stream",
     "text": [
      "Shanu 2.0\n"
     ]
    }
   ],
   "source": [
    "## Concatenation of String:\n",
    "\n",
    "first =\"Shanu\"\n",
    "last=\"2.0\"\n",
    "full = first+\" \"+ last\n",
    "print(full)"
   ]
  },
  {
   "cell_type": "code",
   "execution_count": 15,
   "id": "7cf57bd9-5dfb-49c7-b76c-14e9a66e1947",
   "metadata": {},
   "outputs": [
    {
     "name": "stdout",
     "output_type": "stream",
     "text": [
      "PythonPythonPython\n",
      "hanu i\n",
      "tseb eht si unahS\n"
     ]
    }
   ],
   "source": [
    "## Repetition of String\n",
    "\n",
    "text=\"Python\"\n",
    "print(text*3)\n",
    "\n",
    "## Indexing and slicing:\n",
    "\n",
    "txt=\"Shanu is the best\"\n",
    "\n",
    "print(txt[1:7])\n",
    "print(txt[::-1])"
   ]
  },
  {
   "cell_type": "code",
   "execution_count": 17,
   "id": "8b5aa6e9-c114-4038-9d31-09501eb137ae",
   "metadata": {},
   "outputs": [
    {
     "data": {
      "text/plain": [
       "'unstoppable is 2.0 Shanu'"
      ]
     },
     "execution_count": 17,
     "metadata": {},
     "output_type": "execute_result"
    }
   ],
   "source": [
    "## text = \"Shanu 2.0 is unstoppable\"\n",
    "## \"unstoppable is 2.0 Shanu\"\n",
    "\n",
    "def rev_string(txt):\n",
    "    lst_split_rev=(txt.split(\" \"))[::-1]\n",
    "    return \" \".join(lst_split_rev)\n",
    "rev_string(\"Shanu 2.0 is unstoppable\")"
   ]
  },
  {
   "cell_type": "code",
   "execution_count": 21,
   "id": "7e6ab35a-b44b-4254-b355-ad754fac8c63",
   "metadata": {},
   "outputs": [
    {
     "data": {
      "text/plain": [
       "7"
      ]
     },
     "execution_count": 21,
     "metadata": {},
     "output_type": "execute_result"
    }
   ],
   "source": [
    "#text = \"Shanu 2.0 is unstoppable\"\n",
    "# count the vowel\n",
    "\n",
    "def count_vow(txt):\n",
    "    vowels=['a','e','i','o','u']\n",
    "    count_vowles=0\n",
    "\n",
    "    for i in txt:\n",
    "        if i in vowels:\n",
    "            count_vowles+=1\n",
    "    return count_vowles\n",
    "\n",
    "count_vow(\"Shanu 2.0 is unstoppable\")"
   ]
  },
  {
   "cell_type": "code",
   "execution_count": 27,
   "id": "4a627a24-9857-4bc0-bb48-be6cd015d373",
   "metadata": {},
   "outputs": [
    {
     "data": {
      "text/plain": [
       "True"
      ]
     },
     "execution_count": 27,
     "metadata": {},
     "output_type": "execute_result"
    }
   ],
   "source": [
    "## Check palindrome:\n",
    "\n",
    "def is_pali(txt):\n",
    "    new_text=\"\"\n",
    "    for i in txt:\n",
    "        if i.isalnum():\n",
    "            new_text=new_text+i.lower()\n",
    "    if new_text==new_text[::-1]:\n",
    "        return True\n",
    "is_pali(\"Madam\")"
   ]
  },
  {
   "cell_type": "code",
   "execution_count": 29,
   "id": "e9b4f37f-4483-4566-b6ef-20b1d68269f4",
   "metadata": {},
   "outputs": [
    {
     "name": "stdout",
     "output_type": "stream",
     "text": [
      "Largest: 9 Smallest 1\n"
     ]
    }
   ],
   "source": [
    "# ## Problem 1: Find the Largest and Smallest Elements\n",
    "# Write a function to find the largest and smallest numbers in a list.\n",
    "\n",
    "def largest_smallest(lst):\n",
    "    lst.sort()\n",
    "    print(f\"Largest: {lst[-1]} Smallest: {lst[0]}\")\n",
    "largest_smallest([3, 5, 1, 2, 9, 7])"
   ]
  },
  {
   "cell_type": "code",
   "execution_count": 30,
   "id": "4976fe96-7706-417f-a873-8395985d71aa",
   "metadata": {},
   "outputs": [
    {
     "data": {
      "text/plain": [
       "[1, 2, 3, 4, 5]"
      ]
     },
     "execution_count": 30,
     "metadata": {},
     "output_type": "execute_result"
    }
   ],
   "source": [
    "## Remove duplicates:\n",
    "\n",
    "def redup(lst):\n",
    "    return list(set(lst))\n",
    "\n",
    "redup([1, 2, 2, 3, 4, 4, 5])"
   ]
  },
  {
   "cell_type": "code",
   "execution_count": 31,
   "id": "b731e8d6-1b10-4add-b4f9-e70b2d5cba96",
   "metadata": {},
   "outputs": [
    {
     "name": "stdout",
     "output_type": "stream",
     "text": [
      "[5, 4, 3, 2, 1]\n"
     ]
    }
   ],
   "source": [
    "### Reverse the list\n",
    "\n",
    "numbers = [1, 2, 3, 4, 5]\n",
    "print(numbers[::-1])"
   ]
  },
  {
   "cell_type": "code",
   "execution_count": 33,
   "id": "cea81577-bcbd-4114-8e95-708304f2ba15",
   "metadata": {},
   "outputs": [
    {
     "name": "stdout",
     "output_type": "stream",
     "text": [
      "3\n"
     ]
    }
   ],
   "source": [
    "## Repetion of element in tuple:\n",
    "\n",
    "tup = (1, 2, 3, 2, 2, 4, 5)\n",
    "element = 2\n",
    "\n",
    "count=0\n",
    "for i in tup:\n",
    "    if element==i:\n",
    "        count+=1\n",
    "print(count)"
   ]
  },
  {
   "cell_type": "code",
   "execution_count": 34,
   "id": "37c29883-393a-403b-aac8-50942d1f5e34",
   "metadata": {},
   "outputs": [
    {
     "name": "stdout",
     "output_type": "stream",
     "text": [
      "30 5\n"
     ]
    }
   ],
   "source": [
    "tup = (10, 20, 30, 5, 15)\n",
    "print(max(tup), min(tup)) "
   ]
  },
  {
   "cell_type": "code",
   "execution_count": 35,
   "id": "2a3d3fa9-3c99-4347-a737-e97f3d116a51",
   "metadata": {},
   "outputs": [
    {
     "name": "stdout",
     "output_type": "stream",
     "text": [
      "(4, 5, 6) (1, 2, 3)\n"
     ]
    }
   ],
   "source": [
    "#swap tuples:\n",
    "\n",
    "tup1 = (1, 2, 3)\n",
    "tup2 = (4, 5, 6)\n",
    "tup1, tup2=tup2, tup1\n",
    "\n",
    "print(tup1, tup2)"
   ]
  },
  {
   "cell_type": "code",
   "execution_count": 36,
   "id": "d33c79c7-779f-47ee-8c10-2c939769a3c4",
   "metadata": {},
   "outputs": [
    {
     "name": "stdout",
     "output_type": "stream",
     "text": [
      "{1: 1, 2: 2, 3: 1, 4: 2, 5: 1}\n"
     ]
    }
   ],
   "source": [
    "numbers = [1, 2, 2, 3, 4, 4, 5]\n",
    "\n",
    "dic={}\n",
    "for i in numbers:\n",
    "    if i in dic:\n",
    "        dic[i]+=1\n",
    "    else:\n",
    "        dic[i]=1\n",
    "print(dic)"
   ]
  },
  {
   "cell_type": "code",
   "execution_count": 37,
   "id": "54c0a8f0-a9b4-4b97-95be-22a426b95d9e",
   "metadata": {},
   "outputs": [
    {
     "name": "stdout",
     "output_type": "stream",
     "text": [
      "{'a': 1, 'b': 3, 'c': 4}\n"
     ]
    }
   ],
   "source": [
    "dict1 = {\"a\": 1, \"b\": 2}\n",
    "dict2 = {\"b\": 3, \"c\": 4}\n",
    "\n",
    "print(dict1 | dict2)"
   ]
  },
  {
   "cell_type": "code",
   "execution_count": 42,
   "id": "7eb9b1cc-fec4-4593-9ad5-4f942b6aa156",
   "metadata": {},
   "outputs": [
    {
     "name": "stdout",
     "output_type": "stream",
     "text": [
      "Ravi\n"
     ]
    }
   ],
   "source": [
    "scores = {\"Shanu\": 80, \"Ravi\": 90, \"Priya\": 85}\n",
    "\n",
    "print(max(scores, key=scores.get))"
   ]
  },
  {
   "cell_type": "code",
   "execution_count": 52,
   "id": "8a3f4376-2d4d-4c5e-a8de-66a7c1f87e9d",
   "metadata": {},
   "outputs": [
    {
     "name": "stdout",
     "output_type": "stream",
     "text": [
      "{'Python Basics': {'author': 'John', 'year': 2020}, 'DSA Fundamentals': {'author': 'Alice', 'year': 2021}}\n"
     ]
    }
   ],
   "source": [
    "books = [\n",
    "    {\"title\": \"Python Basics\", \"author\": \"John\", \"year\": 2020},\n",
    "    {\"title\": \"DSA Fundamentals\", \"author\": \"Alice\", \"year\": 2021},\n",
    "]\n",
    "nested_dic={}\n",
    "for i in books:\n",
    "    title=i['title']\n",
    "    for k,v in i.items():\n",
    "        details={k:v for k,v in i.items() if k!='title'}\n",
    "        nested_dic[title]=details\n",
    "print(nested_dic)\n",
    "        "
   ]
  },
  {
   "cell_type": "code",
   "execution_count": 56,
   "id": "336fcb72-5b8c-4339-b717-750b3100b98b",
   "metadata": {},
   "outputs": [
    {
     "name": "stdout",
     "output_type": "stream",
     "text": [
      "{'Shanu': {'department': 'IT', 'salary': 55000}, 'Ravi': {'department': 'HR', 'salary': 45000}}\n"
     ]
    }
   ],
   "source": [
    "employees = {\n",
    "    \"Shanu\": {\"department\": \"IT\", \"salary\": 50000},\n",
    "    \"Ravi\": {\"department\": \"HR\", \"salary\": 45000},\n",
    "}\n",
    "\n",
    "employees['Shanu']['salary']=int(employees['Shanu']['salary']+((employees['Shanu']['salary']*10)/100))\n",
    "\n",
    "print(employees)"
   ]
  },
  {
   "cell_type": "code",
   "execution_count": 58,
   "id": "fd99dfc3-abb9-41b6-ad24-391c834df214",
   "metadata": {},
   "outputs": [
    {
     "name": "stdout",
     "output_type": "stream",
     "text": [
      "5\n"
     ]
    }
   ],
   "source": [
    "## Count subjects:\n",
    "\n",
    "students = {\n",
    "    \"Shanu\": {\"subjects\": [\"Math\", \"Physics\"]},\n",
    "    \"Ravi\": {\"subjects\": [\"Biology\", \"Chemistry\", \"English\"]},\n",
    "}\n",
    "\n",
    "count_sub=0\n",
    "for i,v in students.items():\n",
    "    count_sub+=len(v['subjects'])\n",
    "print(count_sub)"
   ]
  },
  {
   "cell_type": "code",
   "execution_count": 63,
   "id": "16f6edd6-e338-46b8-82ca-cdafea12e850",
   "metadata": {},
   "outputs": [
    {
     "name": "stdout",
     "output_type": "stream",
     "text": [
      "{'A': ['Shanu', 'Priya'], 'B': ['Ravi'], 'C': ['Anil']}\n"
     ]
    }
   ],
   "source": [
    "students = {\n",
    "    \"Shanu\": \"A\",\n",
    "    \"Ravi\": \"B\",\n",
    "    \"Priya\": \"A\",\n",
    "    \"Anil\": \"C\",\n",
    "}\n",
    "\n",
    "new_dic={}\n",
    "for k,v in students.items():\n",
    "    if v in new_dic:\n",
    "        new_dic[v].append(k)\n",
    "    else:\n",
    "        new_dic[v]=[k]\n",
    "print(new_dic)\n",
    "        "
   ]
  },
  {
   "cell_type": "code",
   "execution_count": 68,
   "id": "95afb364-0951-4d54-a187-600db3e62243",
   "metadata": {},
   "outputs": [
    {
     "name": "stdout",
     "output_type": "stream",
     "text": [
      "{2: 1, 3: 1, 4: 1, 5: 1}\n"
     ]
    }
   ],
   "source": [
    "list1 = [1, 2, 3, 4, 5, 2]\n",
    "list2 = [3, 4, 4, 5, 6, 2]\n",
    "dic={}\n",
    "count=1\n",
    "for i in list1:\n",
    "    if i in list2:\n",
    "        dic[i]=1\n",
    "print(dic)"
   ]
  },
  {
   "cell_type": "code",
   "execution_count": 74,
   "id": "77d66f9f-1770-48c2-8838-8acab162f194",
   "metadata": {},
   "outputs": [
    {
     "name": "stdout",
     "output_type": "stream",
     "text": [
      "[['Shanu', 'IT', 50000], ['Ravi', 'HR', 45000]]\n"
     ]
    }
   ],
   "source": [
    "employees = {\n",
    "    \"Shanu\": {\"department\": \"IT\", \"salary\": 50000},\n",
    "    \"Ravi\": {\"department\": \"HR\", \"salary\": 45000},\n",
    "}\n",
    "temp=[]\n",
    "for k,v in employees.items():\n",
    "    lst=[k]\n",
    "    for k,v in v.items():\n",
    "        lst.append(v)\n",
    "    temp.append(lst)\n",
    "    lst=[]\n",
    "print(temp)"
   ]
  },
  {
   "cell_type": "code",
   "execution_count": 77,
   "id": "719da249-567c-4d63-917e-bcecdad532ea",
   "metadata": {},
   "outputs": [
    {
     "name": "stdin",
     "output_type": "stream",
     "text": [
      "Enter a for apple and o for oranges: a\n",
      "Enter 1 to add and 2 to delete: 1\n",
      "Enter number to add or delete: 5\n"
     ]
    },
    {
     "name": "stdout",
     "output_type": "stream",
     "text": [
      "{'apples': 15, 'oranges': 20}\n"
     ]
    }
   ],
   "source": [
    "inventory = {\n",
    "    \"apples\": 10,\n",
    "    \"oranges\": 20,\n",
    "}\n",
    "ele=input(\"Enter a for apple and o for oranges:\")\n",
    "val=int(input(\"Enter 1 to add and 2 to delete:\"))\n",
    "num=int(input(\"Enter number to add or delete:\"))\n",
    "\n",
    "if ele=='a':\n",
    "    if val==1:\n",
    "        inventory['apples']=inventory['apples']+num\n",
    "    else:\n",
    "        if num<inventory['apples']:\n",
    "            inventory['apples']=inventory['apples']-num\n",
    "else:\n",
    "    if val==1:\n",
    "        inventory['oranges']=inventory['oranges']+num\n",
    "    else:\n",
    "        if num<inventory['oranges']:\n",
    "            inventory['oranges']=inventory['oranges']-num\n",
    "\n",
    "print(inventory)  "
   ]
  },
  {
   "cell_type": "code",
   "execution_count": null,
   "id": "3db3ceec-2ba4-422b-aa92-b2267b9971b4",
   "metadata": {},
   "outputs": [],
   "source": []
  }
 ],
 "metadata": {
  "kernelspec": {
   "display_name": "Python 3 (ipykernel)",
   "language": "python",
   "name": "python3"
  },
  "language_info": {
   "codemirror_mode": {
    "name": "ipython",
    "version": 3
   },
   "file_extension": ".py",
   "mimetype": "text/x-python",
   "name": "python",
   "nbconvert_exporter": "python",
   "pygments_lexer": "ipython3",
   "version": "3.9.6"
  }
 },
 "nbformat": 4,
 "nbformat_minor": 5
}
