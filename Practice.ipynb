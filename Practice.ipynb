{
 "cells": [
  {
   "cell_type": "code",
   "execution_count": 2,
   "id": "5131bf98-27fc-418b-aaec-661548ea2c18",
   "metadata": {},
   "outputs": [
    {
     "name": "stdout",
     "output_type": "stream",
     "text": [
      "1\n",
      "22\n",
      "333\n",
      "4444\n",
      "55555\n"
     ]
    }
   ],
   "source": [
    "## Pattern using nested loop:\n",
    "\n",
    "for i in range(1,6):\n",
    "    for j in range(i):\n",
    "        print(i, end='')\n",
    "    print()"
   ]
  },
  {
   "cell_type": "code",
   "execution_count": 11,
   "id": "3a3219d8-d51f-49a3-9342-f39861e57ade",
   "metadata": {},
   "outputs": [
    {
     "name": "stdout",
     "output_type": "stream",
     "text": [
      "625\n"
     ]
    }
   ],
   "source": [
    "#Question 2: Write a Python program to calculate the sum of all odd numbers between 1 and 50 using a while loop.\n",
    "i=1\n",
    "sum=0\n",
    "while i<=50:\n",
    "    if(i%2 !=0):\n",
    "        sum=sum+i\n",
    "    i+=1\n",
    "print(sum)"
   ]
  },
  {
   "cell_type": "code",
   "execution_count": 4,
   "id": "e8850931-6844-4145-8320-e2298eda9be6",
   "metadata": {},
   "outputs": [
    {
     "name": "stdout",
     "output_type": "stream",
     "text": [
      "1 2 3 \n",
      "2 4 6 \n",
      "3 6 9 \n"
     ]
    }
   ],
   "source": [
    "for i in range(1, 4):\n",
    "    for j in range(1, 4):\n",
    "        print(i * j, end=' ')\n",
    "    print()\n"
   ]
  },
  {
   "cell_type": "code",
   "execution_count": 7,
   "id": "fb329fb6-eef3-43ff-a521-3a4a3663ebad",
   "metadata": {},
   "outputs": [
    {
     "name": "stdin",
     "output_type": "stream",
     "text": [
      "enter a number: 20\n"
     ]
    },
    {
     "name": "stdout",
     "output_type": "stream",
     "text": [
      "Number is not divisble by 5 and 7\n"
     ]
    }
   ],
   "source": [
    "\n",
    "##Question 4: Write a Python program that checks if a given number is divisible by both 5 and 7.\n",
    "num=int(input('enter a number:'))\n",
    "\n",
    "if(num %5 ==0 and num%7==0):\n",
    "    print(\"Number is divisble by 5 and 7\")\n",
    "else:\n",
    "    print(\"Number is not divisble by 5 and 7\")\n",
    "\n"
   ]
  },
  {
   "cell_type": "code",
   "execution_count": 8,
   "id": "9d7521ec-fe80-4f93-9c18-251b487331ea",
   "metadata": {},
   "outputs": [
    {
     "name": "stdin",
     "output_type": "stream",
     "text": [
      "Enter a number: 23\n"
     ]
    },
    {
     "name": "stdout",
     "output_type": "stream",
     "text": [
      "Positive\n"
     ]
    }
   ],
   "source": [
    "#Question 5: Write a Python program that takes a number as input and:\n",
    "\n",
    "# Prints \"Positive\" if the number is greater than 0.\n",
    "# Prints \"Negative\" if the number is less than 0.\n",
    "# Prints \"Zero\" if the number is 0.\n",
    "\n",
    "num=int(input(\"Enter a number:\"))\n",
    "\n",
    "if(num>0):\n",
    "    print(\"Positive\")\n",
    "elif(num<0):\n",
    "    print(\"Negative\")\n",
    "else:\n",
    "    print(\"Zero\")\n"
   ]
  },
  {
   "cell_type": "code",
   "execution_count": 9,
   "id": "a97642ca-ebcc-4c91-9de2-c18dd7a74d61",
   "metadata": {},
   "outputs": [
    {
     "name": "stdout",
     "output_type": "stream",
     "text": [
      "x is between 10 and 20\n"
     ]
    }
   ],
   "source": [
    "##Question 6: What will be the output of the following code? Explain why.\n",
    "\n",
    "x = 15\n",
    "if x > 10 and x < 20:\n",
    "    print(\"x is between 10 and 20\")\n",
    "elif x > 20:\n",
    "    print(\"x is greater than 20\")\n",
    "else:\n",
    "    print(\"x is 10 or less\")\n",
    "## ANS: x is between 10 and 20 as first condition is satisfied"
   ]
  },
  {
   "cell_type": "code",
   "execution_count": 10,
   "id": "380ff233-11a1-4a5b-931c-36b1d560f0d9",
   "metadata": {},
   "outputs": [
    {
     "name": "stdout",
     "output_type": "stream",
     "text": [
      "3,6,9,12,18,21,24,27,33,36,39,42,48,51,54,57,63,66,69,72,78,81,84,87,93,96,99,"
     ]
    }
   ],
   "source": [
    "#Question 7: Write a Python program to print all numbers between 1 and 100 that are:\n",
    "#Divisible by 3 but not by 5.\n",
    "\n",
    "for i in range(1,100):\n",
    "    if(i%3==0 and i%5!=0):\n",
    "        print(i, end =',')"
   ]
  },
  {
   "cell_type": "code",
   "execution_count": 1,
   "id": "d85883f3-166f-4bc7-8eba-7f1562724ad1",
   "metadata": {},
   "outputs": [
    {
     "name": "stdin",
     "output_type": "stream",
     "text": [
      "enter the number: 10\n"
     ]
    },
    {
     "name": "stdout",
     "output_type": "stream",
     "text": [
      "[0, 1, 1, 2, 3, 5, 8, 13, 21, 34]\n"
     ]
    }
   ],
   "source": [
    "## Fibonacci Sequnce:\n",
    "\n",
    "def fibonacci_iterative(n):\n",
    "    fib_seq=[0,1]\n",
    "    for i in range(2,n):\n",
    "        fib_seq.append(fib_seq[-1] + fib_seq[-2])\n",
    "    return fib_seq\n",
    "\n",
    "n=int(input(\"enter the number:\"))\n",
    "\n",
    "print(fibonacci_iterative(n))"
   ]
  },
  {
   "cell_type": "code",
   "execution_count": 2,
   "id": "47352946-33d5-4e7f-a135-ddfff33b1ac0",
   "metadata": {},
   "outputs": [
    {
     "name": "stdin",
     "output_type": "stream",
     "text": [
      "Enter the number 10\n"
     ]
    },
    {
     "name": "stdout",
     "output_type": "stream",
     "text": [
      "55\n"
     ]
    }
   ],
   "source": [
    "## Fibonacci Recursive\n",
    "\n",
    "def fibonacci_recursive(n):\n",
    "    if n<=1:\n",
    "        return n\n",
    "    return fibonacci_recursive(n-1) + fibonacci_recursive(n-2)\n",
    "\n",
    "n=int(input(\"Enter the number\"))\n",
    "print(fibonacci_recursive(n))"
   ]
  },
  {
   "cell_type": "code",
   "execution_count": null,
   "id": "ce5c6cb2-524d-4456-8f5b-c0511c8d021a",
   "metadata": {},
   "outputs": [],
   "source": []
  }
 ],
 "metadata": {
  "kernelspec": {
   "display_name": "Python 3 (ipykernel)",
   "language": "python",
   "name": "python3"
  },
  "language_info": {
   "codemirror_mode": {
    "name": "ipython",
    "version": 3
   },
   "file_extension": ".py",
   "mimetype": "text/x-python",
   "name": "python",
   "nbconvert_exporter": "python",
   "pygments_lexer": "ipython3",
   "version": "3.9.6"
  }
 },
 "nbformat": 4,
 "nbformat_minor": 5
}
