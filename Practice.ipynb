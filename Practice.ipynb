{
 "cells": [
  {
   "cell_type": "code",
   "execution_count": 2,
   "id": "5131bf98-27fc-418b-aaec-661548ea2c18",
   "metadata": {},
   "outputs": [
    {
     "name": "stdout",
     "output_type": "stream",
     "text": [
      "1\n",
      "22\n",
      "333\n",
      "4444\n",
      "55555\n"
     ]
    }
   ],
   "source": [
    "## Pattern using nested loop:\n",
    "\n",
    "for i in range(1,6):\n",
    "    for j in range(i):\n",
    "        print(i, end='')\n",
    "    print()"
   ]
  },
  {
   "cell_type": "code",
   "execution_count": 11,
   "id": "3a3219d8-d51f-49a3-9342-f39861e57ade",
   "metadata": {},
   "outputs": [
    {
     "name": "stdout",
     "output_type": "stream",
     "text": [
      "625\n"
     ]
    }
   ],
   "source": [
    "#Question 2: Write a Python program to calculate the sum of all odd numbers between 1 and 50 using a while loop.\n",
    "i=1\n",
    "sum=0\n",
    "while i<=50:\n",
    "    if(i%2 !=0):\n",
    "        sum=sum+i\n",
    "    i+=1\n",
    "print(sum)"
   ]
  },
  {
   "cell_type": "code",
   "execution_count": 4,
   "id": "e8850931-6844-4145-8320-e2298eda9be6",
   "metadata": {},
   "outputs": [
    {
     "name": "stdout",
     "output_type": "stream",
     "text": [
      "1 2 3 \n",
      "2 4 6 \n",
      "3 6 9 \n"
     ]
    }
   ],
   "source": [
    "for i in range(1, 4):\n",
    "    for j in range(1, 4):\n",
    "        print(i * j, end=' ')\n",
    "    print()\n"
   ]
  },
  {
   "cell_type": "code",
   "execution_count": 7,
   "id": "fb329fb6-eef3-43ff-a521-3a4a3663ebad",
   "metadata": {},
   "outputs": [
    {
     "name": "stdin",
     "output_type": "stream",
     "text": [
      "enter a number: 20\n"
     ]
    },
    {
     "name": "stdout",
     "output_type": "stream",
     "text": [
      "Number is not divisble by 5 and 7\n"
     ]
    }
   ],
   "source": [
    "\n",
    "##Question 4: Write a Python program that checks if a given number is divisible by both 5 and 7.\n",
    "num=int(input('enter a number:'))\n",
    "\n",
    "if(num %5 ==0 and num%7==0):\n",
    "    print(\"Number is divisble by 5 and 7\")\n",
    "else:\n",
    "    print(\"Number is not divisble by 5 and 7\")\n",
    "\n"
   ]
  },
  {
   "cell_type": "code",
   "execution_count": 8,
   "id": "9d7521ec-fe80-4f93-9c18-251b487331ea",
   "metadata": {},
   "outputs": [
    {
     "name": "stdin",
     "output_type": "stream",
     "text": [
      "Enter a number: 23\n"
     ]
    },
    {
     "name": "stdout",
     "output_type": "stream",
     "text": [
      "Positive\n"
     ]
    }
   ],
   "source": [
    "#Question 5: Write a Python program that takes a number as input and:\n",
    "\n",
    "# Prints \"Positive\" if the number is greater than 0.\n",
    "# Prints \"Negative\" if the number is less than 0.\n",
    "# Prints \"Zero\" if the number is 0.\n",
    "\n",
    "num=int(input(\"Enter a number:\"))\n",
    "\n",
    "if(num>0):\n",
    "    print(\"Positive\")\n",
    "elif(num<0):\n",
    "    print(\"Negative\")\n",
    "else:\n",
    "    print(\"Zero\")\n"
   ]
  },
  {
   "cell_type": "code",
   "execution_count": 9,
   "id": "a97642ca-ebcc-4c91-9de2-c18dd7a74d61",
   "metadata": {},
   "outputs": [
    {
     "name": "stdout",
     "output_type": "stream",
     "text": [
      "x is between 10 and 20\n"
     ]
    }
   ],
   "source": [
    "##Question 6: What will be the output of the following code? Explain why.\n",
    "\n",
    "x = 15\n",
    "if x > 10 and x < 20:\n",
    "    print(\"x is between 10 and 20\")\n",
    "elif x > 20:\n",
    "    print(\"x is greater than 20\")\n",
    "else:\n",
    "    print(\"x is 10 or less\")\n",
    "## ANS: x is between 10 and 20 as first condition is satisfied"
   ]
  },
  {
   "cell_type": "code",
   "execution_count": 10,
   "id": "380ff233-11a1-4a5b-931c-36b1d560f0d9",
   "metadata": {},
   "outputs": [
    {
     "name": "stdout",
     "output_type": "stream",
     "text": [
      "3,6,9,12,18,21,24,27,33,36,39,42,48,51,54,57,63,66,69,72,78,81,84,87,93,96,99,"
     ]
    }
   ],
   "source": [
    "#Question 7: Write a Python program to print all numbers between 1 and 100 that are:\n",
    "#Divisible by 3 but not by 5.\n",
    "\n",
    "for i in range(1,100):\n",
    "    if(i%3==0 and i%5!=0):\n",
    "        print(i, end =',')"
   ]
  },
  {
   "cell_type": "code",
   "execution_count": 1,
   "id": "d85883f3-166f-4bc7-8eba-7f1562724ad1",
   "metadata": {},
   "outputs": [
    {
     "name": "stdin",
     "output_type": "stream",
     "text": [
      "enter the number: 10\n"
     ]
    },
    {
     "name": "stdout",
     "output_type": "stream",
     "text": [
      "[0, 1, 1, 2, 3, 5, 8, 13, 21, 34]\n"
     ]
    }
   ],
   "source": [
    "## Fibonacci Sequnce:\n",
    "\n",
    "def fibonacci_iterative(n):\n",
    "    fib_seq=[0,1]\n",
    "    for i in range(2,n):\n",
    "        fib_seq.append(fib_seq[-1] + fib_seq[-2])\n",
    "    return fib_seq\n",
    "\n",
    "n=int(input(\"enter the number:\"))\n",
    "\n",
    "print(fibonacci_iterative(n))"
   ]
  },
  {
   "cell_type": "code",
   "execution_count": 2,
   "id": "47352946-33d5-4e7f-a135-ddfff33b1ac0",
   "metadata": {},
   "outputs": [
    {
     "name": "stdin",
     "output_type": "stream",
     "text": [
      "Enter the number 10\n"
     ]
    },
    {
     "name": "stdout",
     "output_type": "stream",
     "text": [
      "55\n"
     ]
    }
   ],
   "source": [
    "## Fibonacci Recursive\n",
    "\n",
    "def fibonacci_recursive(n):\n",
    "    if n<=1:\n",
    "        return n\n",
    "    return fibonacci_recursive(n-1) + fibonacci_recursive(n-2)\n",
    "\n",
    "n=int(input(\"Enter the number\"))\n",
    "print(fibonacci_recursive(n))"
   ]
  },
  {
   "cell_type": "code",
   "execution_count": 1,
   "id": "ce5c6cb2-524d-4456-8f5b-c0511c8d021a",
   "metadata": {},
   "outputs": [
    {
     "name": "stdout",
     "output_type": "stream",
     "text": [
      "Jhon\n",
      "20\n",
      "Software Developer\n"
     ]
    }
   ],
   "source": [
    "#Tuples: It's an orderd collection, it is immutable\n",
    "\n",
    "#packing creation\n",
    "person=(\"Jhon\",20,\"Software Developer\")\n",
    "\n",
    "#unpacking assigning the values to each varibales\n",
    "name, age, profession = person\n",
    "\n",
    "print(name)\n",
    "print(age)\n",
    "print(profession)"
   ]
  },
  {
   "cell_type": "code",
   "execution_count": 3,
   "id": "b0cd2ae7-ed54-4eeb-a88b-7a6ee763ffef",
   "metadata": {},
   "outputs": [
    {
     "name": "stdout",
     "output_type": "stream",
     "text": [
      "{1: 3, 2: 2, 3: 3, 4: 3, 5: 3}\n"
     ]
    }
   ],
   "source": [
    "## Count frequebcy of elements in tuple\n",
    "\n",
    "numbers=(1,1,1,2,3,4,2,3,5,5,5,4,3,4)\n",
    "freq={}\n",
    "for i in numbers:\n",
    "    freq[i]=freq.get(i,0)+1\n",
    "print(freq)"
   ]
  },
  {
   "cell_type": "code",
   "execution_count": 4,
   "id": "c6751da2-4d02-44ae-96d8-b42414acb91d",
   "metadata": {},
   "outputs": [
    {
     "name": "stdout",
     "output_type": "stream",
     "text": [
      "4\n",
      "40\n",
      "10\n",
      "100\n",
      "[40, 30, 20, 10]\n"
     ]
    }
   ],
   "source": [
    "numbers =[10,20,30,40]\n",
    "\n",
    "## List built in functions\n",
    "# length---> len()\n",
    "\n",
    "print(len(numbers))\n",
    "\n",
    "#max()\n",
    "print(max(numbers))\n",
    "\n",
    "#min()\n",
    "print(min(numbers))\n",
    "\n",
    "##sum()--> sum of all the elemnts in the lsists(for numeric values))\n",
    "print(sum(numbers))\n",
    "\n",
    "\n",
    "## sorted()\n",
    "print(sorted(numbers, reverse=True))\n",
    "\n"
   ]
  },
  {
   "cell_type": "code",
   "execution_count": 5,
   "id": "c322a0c1-b2d0-4f54-b591-32dd9af89bc8",
   "metadata": {},
   "outputs": [
    {
     "name": "stdout",
     "output_type": "stream",
     "text": [
      "['S', 'h', 'a', 'n', 'u']\n"
     ]
    }
   ],
   "source": [
    "#list() converts iterable string, tuple into list\n",
    "\n",
    "name =\"Shanu\"\n",
    "\n",
    "print(list(name))"
   ]
  },
  {
   "cell_type": "code",
   "execution_count": 6,
   "id": "ac5e0055-9f17-4e9c-84d8-e92a82885305",
   "metadata": {},
   "outputs": [
    {
     "name": "stdout",
     "output_type": "stream",
     "text": [
      "['shanu', 'rajesh', 'ram']\n"
     ]
    }
   ],
   "source": [
    "## tuple conversion\n",
    "\n",
    "name=(\"shanu\", \"rajesh\", \"ram\")\n",
    "\n",
    "print(list(name))"
   ]
  },
  {
   "cell_type": "code",
   "execution_count": 7,
   "id": "ce26aee8-0a63-43c2-84c2-8911891511c6",
   "metadata": {},
   "outputs": [
    {
     "name": "stdout",
     "output_type": "stream",
     "text": [
      "['abhi', 'shanu', 'ravi']\n"
     ]
    }
   ],
   "source": [
    "### Set conversion\n",
    "\n",
    "set_data={\"shanu\", \"ravi\", \"abhi\"}\n",
    "print(list(set_data))"
   ]
  },
  {
   "cell_type": "code",
   "execution_count": 11,
   "id": "80510faf-0863-4ab5-9105-ca7e319db848",
   "metadata": {},
   "outputs": [
    {
     "name": "stdout",
     "output_type": "stream",
     "text": [
      "['a', 'b', 'c']\n",
      "[1, 2, 3]\n",
      "[('a', 1), ('b', 2), ('c', 3)]\n"
     ]
    }
   ],
   "source": [
    "##dictionary keys list\n",
    "\n",
    "dict_data={\"a\":1,\"b\":2,\"c\":3}\n",
    "print(list((dict_data).keys()))\n",
    "\n",
    "\n",
    "##dictionary values list\n",
    "\n",
    "print(list((dict_data).values()))\n",
    "\n",
    "###\n",
    "print(list(dict_data.items()))"
   ]
  },
  {
   "cell_type": "code",
   "execution_count": 12,
   "id": "b9c31323-8d88-4d73-91c2-42584bc0bbba",
   "metadata": {},
   "outputs": [
    {
     "name": "stdout",
     "output_type": "stream",
     "text": [
      "[1, 2, 3, 4, 5]\n"
     ]
    }
   ],
   "source": [
    "## Range data\n",
    "range_data=range(1,6)\n",
    "print(list(range_data))"
   ]
  },
  {
   "cell_type": "code",
   "execution_count": 14,
   "id": "4589a321-3b1a-49ad-9c0f-107c114cf06e",
   "metadata": {},
   "outputs": [
    {
     "name": "stdout",
     "output_type": "stream",
     "text": [
      "Index: 0 Vlaue:apple\n",
      "Index: 1 Vlaue:banana\n",
      "Index: 2 Vlaue:cheerry\n",
      "Index: 1 Value: apple\n",
      "Index: 2 Value: banana\n",
      "Index: 3 Value: cheerry\n"
     ]
    }
   ],
   "source": [
    "## Enumerate()\n",
    "\n",
    "#The first value of each tuple is the index\n",
    "#second value of each tuple is the element from the iterable\n",
    "\n",
    "fruits=['apple', 'banana', 'cheerry']\n",
    "\n",
    "for index,value in enumerate(fruits):\n",
    "    print(f\"Index: {index} Vlaue:{value}\")\n",
    "\n",
    "# we can specify the index start\n",
    "for index, value in enumerate(fruits, start=1):\n",
    "    print(f\"Index: {index} Value: {value}\")"
   ]
  },
  {
   "cell_type": "code",
   "execution_count": 16,
   "id": "0a2b56f9-9e5b-4001-a66f-2080174dcc75",
   "metadata": {},
   "outputs": [
    {
     "name": "stdout",
     "output_type": "stream",
     "text": [
      "even number is10 at index0\n",
      "even number is20 at index2\n"
     ]
    }
   ],
   "source": [
    "## Write a program to find even numebrs with there index\n",
    "\n",
    "numbers=[10,15,20,25]\n",
    "for i,j in enumerate(numbers):\n",
    "    if j%2==0:\n",
    "        print(f\"even number is{j} at index{i}\")\n"
   ]
  },
  {
   "cell_type": "code",
   "execution_count": 19,
   "id": "74ce71f3-2232-46de-9f9b-a440420fc97a",
   "metadata": {},
   "outputs": [
    {
     "name": "stdout",
     "output_type": "stream",
     "text": [
      "['Abhi', 'Amar', 'Alice']\n"
     ]
    }
   ],
   "source": [
    "# filter out the name starting with \"A\"\n",
    "## lambda takes multiple argumets but only one expression, it can be used within the code \n",
    "##where we dont have need of assiging the elemts within a varible\n",
    "name=[\"Shanu\", \"Abhi\", \"Amar\",\"Alice\",\"Bob\"]\n",
    "filtered_names=list(filter(lambda x: x.startswith(\"A\"), name))\n",
    "print(filtered_names)"
   ]
  },
  {
   "cell_type": "code",
   "execution_count": 23,
   "id": "6adf7cf8-fb76-4174-adf5-36dea0013eb0",
   "metadata": {},
   "outputs": [
    {
     "data": {
      "text/plain": [
       "[1, 2, 3, 4, 5, 6]"
      ]
     },
     "execution_count": 23,
     "metadata": {},
     "output_type": "execute_result"
    }
   ],
   "source": [
    "## Write a function to remove duplicates:\n",
    "\n",
    "# def remove_duplicates(lst):\n",
    "#     dup_set=set(lst)\n",
    "#     return list(dup_set)\n",
    "\n",
    "# lst=[1,1,2,2,2,3,4,5,6]\n",
    "# remove_duplicates(lst)\n",
    "\n",
    "\n",
    "## To maintain order\n",
    "\n",
    "def rem_dup(lst):\n",
    "    unique=[]\n",
    "    for i in lst:\n",
    "        if i not in unique:\n",
    "            unique.append(i)\n",
    "    return unique\n",
    "\n",
    "lst=[1,1,2,2,2,3,4,5,6]\n",
    "rem_dup(lst)"
   ]
  },
  {
   "cell_type": "code",
   "execution_count": 28,
   "id": "2734fc45-1d32-4b7d-b008-974b737ac089",
   "metadata": {},
   "outputs": [
    {
     "data": {
      "text/plain": [
       "7"
      ]
     },
     "execution_count": 28,
     "metadata": {},
     "output_type": "execute_result"
    }
   ],
   "source": [
    "def count_vowels(txt):\n",
    "    vowels =[\"a\",\"e\",\"i\",\"o\",\"u\"]\n",
    "    vowels_count=0\n",
    "    # for i in txt:\n",
    "    #     if i in vowels:\n",
    "    #         vowels_count+=1\n",
    "    \n",
    "    vowels_count=sum(1 for i in txt if i in vowels)\n",
    "    return vowels_count\n",
    "text = \"Shanu2.0 is awesome!\"\n",
    "count_vowels(text)"
   ]
  },
  {
   "cell_type": "code",
   "execution_count": 32,
   "id": "d0e9255c-533c-42da-98b5-59522258c313",
   "metadata": {},
   "outputs": [
    {
     "name": "stdout",
     "output_type": "stream",
     "text": [
      "[1, 4, 9, 16, 25]\n"
     ]
    }
   ],
   "source": [
    "def square_numbers(num):\n",
    "    return num**2\n",
    "\n",
    "numbers=[1,2,3,4,5]\n",
    "squ_number=map(square_numbers,numbers)\n",
    "print(list(squ_number))"
   ]
  },
  {
   "cell_type": "code",
   "execution_count": 33,
   "id": "cad97f52-e11b-4a2e-9364-0915f2c7927f",
   "metadata": {},
   "outputs": [
    {
     "name": "stdout",
     "output_type": "stream",
     "text": [
      "Index: 0 Value: P\n",
      "Index: 1 Value: y\n",
      "Index: 2 Value: t\n",
      "Index: 3 Value: h\n",
      "Index: 4 Value: o\n",
      "Index: 5 Value: n\n"
     ]
    }
   ],
   "source": [
    "def ind_val(txt):\n",
    "    for i,v in enumerate(txt):\n",
    "        print(f\"Index: {i} Value: {v}\")\n",
    "ind_val(\"Python\")"
   ]
  },
  {
   "cell_type": "code",
   "execution_count": 37,
   "id": "d8771c3b-ad39-4fc7-b314-2f6134a042f4",
   "metadata": {},
   "outputs": [
    {
     "data": {
      "text/plain": [
       "120"
      ]
     },
     "execution_count": 37,
     "metadata": {},
     "output_type": "execute_result"
    }
   ],
   "source": [
    "## Factorial using recursion\n",
    "\n",
    "def rec_fact(n):\n",
    "    if n==1 or n==0:\n",
    "        return 1\n",
    "    return n*rec_fact(n-1)\n",
    "rec_fact(5)\n"
   ]
  },
  {
   "cell_type": "code",
   "execution_count": 38,
   "id": "b89f7421-d78c-4a48-985a-36447e45eaba",
   "metadata": {},
   "outputs": [
    {
     "data": {
      "text/plain": [
       "13"
      ]
     },
     "execution_count": 38,
     "metadata": {},
     "output_type": "execute_result"
    }
   ],
   "source": [
    "def fib_seq(n):\n",
    "    if n==0:\n",
    "        return 0\n",
    "    if n==1:\n",
    "        return 1\n",
    "    return (fib_seq(n-1) + fib_seq(n-2))\n",
    "\n",
    "fib_seq(7)\n",
    "    "
   ]
  },
  {
   "cell_type": "code",
   "execution_count": 45,
   "id": "e41f368c-29e6-4ca4-a22b-53f00479fb75",
   "metadata": {},
   "outputs": [
    {
     "name": "stdout",
     "output_type": "stream",
     "text": [
      "True\n"
     ]
    }
   ],
   "source": [
    "def pali(txt):\n",
    "    cleaned_txt= \"\".join(char.lower() for char in txt if char.isalnum())\n",
    "    return cleaned_txt == cleaned_txt[::-1]\n",
    "print(pali(\"Madam, I'm Adam\"))"
   ]
  },
  {
   "cell_type": "code",
   "execution_count": 49,
   "id": "9b6b512e-9e53-4ddc-a917-2009efedd9ef",
   "metadata": {},
   "outputs": [
    {
     "name": "stdout",
     "output_type": "stream",
     "text": [
      "1 5\n",
      "2 4\n"
     ]
    }
   ],
   "source": [
    "num =[1,2,3,4,5]\n",
    "target =6\n",
    "\n",
    "for i in range(len(num)):\n",
    "    for j in range(i+1,len(num)):\n",
    "        if num[i]+num[j] == target:\n",
    "            print(num[i],num[j])\n"
   ]
  },
  {
   "cell_type": "code",
   "execution_count": null,
   "id": "71dfaa86-f9a5-45cc-84cb-8ab9a2378be2",
   "metadata": {},
   "outputs": [],
   "source": []
  }
 ],
 "metadata": {
  "kernelspec": {
   "display_name": "Python 3 (ipykernel)",
   "language": "python",
   "name": "python3"
  },
  "language_info": {
   "codemirror_mode": {
    "name": "ipython",
    "version": 3
   },
   "file_extension": ".py",
   "mimetype": "text/x-python",
   "name": "python",
   "nbconvert_exporter": "python",
   "pygments_lexer": "ipython3",
   "version": "3.9.6"
  }
 },
 "nbformat": 4,
 "nbformat_minor": 5
}
