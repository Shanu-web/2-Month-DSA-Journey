{
 "cells": [
  {
   "cell_type": "code",
   "execution_count": null,
   "id": "617256d2-b22c-49c0-9c9f-5d6bceb35356",
   "metadata": {},
   "outputs": [],
   "source": [
    "###Condional (if-else)\n",
    "\n",
    "# if shtatement--> hum iska use tab krte hai jab humme ek condition checkr krni ho:\n",
    "\n",
    "# if condition:\n",
    "#     ##print() code execute if condition is true."
   ]
  },
  {
   "cell_type": "code",
   "execution_count": 1,
   "id": "67818e3a-ea48-4785-b824-1dc36aa6a824",
   "metadata": {},
   "outputs": [
    {
     "name": "stdout",
     "output_type": "stream",
     "text": [
      "you are eligible\n"
     ]
    }
   ],
   "source": [
    "age =20\n",
    "if age>=18:\n",
    "    print(\"you are eligible\")"
   ]
  },
  {
   "cell_type": "code",
   "execution_count": null,
   "id": "50113981-4480-422e-8324-a39b3bc65a11",
   "metadata": {},
   "outputs": [],
   "source": [
    "### if and else statement\n",
    "\n",
    "if condition:\n",
    "    # execute true\n",
    "else:\n",
    "    #execute default(false)"
   ]
  },
  {
   "cell_type": "code",
   "execution_count": 4,
   "id": "f256512b-d9a9-46bf-846d-3785f7817275",
   "metadata": {},
   "outputs": [
    {
     "name": "stdout",
     "output_type": "stream",
     "text": [
      "you are not eligible\n"
     ]
    }
   ],
   "source": [
    "### Voter eligibility\n",
    "\n",
    "age=16\n",
    "if age>=18:\n",
    "    print(\"you are eleigible\")\n",
    "else:\n",
    "    print(\"you are not eligible\")"
   ]
  },
  {
   "cell_type": "code",
   "execution_count": null,
   "id": "bdf51f6b-9652-4f08-836c-ddbdca43b57e",
   "metadata": {},
   "outputs": [],
   "source": [
    "#### if elif else:\n",
    "\n",
    "if condition1:\n",
    "    ###execute true\n",
    "elif condition2:\n",
    "     ### eeecute if true\n",
    "else:\n",
    "    ## excute false(default)"
   ]
  },
  {
   "cell_type": "code",
   "execution_count": 7,
   "id": "89da20f1-11f2-4ea1-9ae3-ecf5293e4cf9",
   "metadata": {},
   "outputs": [
    {
     "name": "stdout",
     "output_type": "stream",
     "text": [
      "Grade : A+\n"
     ]
    }
   ],
   "source": [
    "### Example grade check:\n",
    "\n",
    "marks =100\n",
    "\n",
    "if marks>=90:\n",
    "    print(\"Grade : A+\")\n",
    "elif marks>=80:\n",
    "    print(\"Grade : A\")\n",
    "else:\n",
    "    print(\"Grade : B\")"
   ]
  },
  {
   "cell_type": "code",
   "execution_count": null,
   "id": "d9ed430a-203f-4b10-944f-b21a7a0e08cd",
   "metadata": {},
   "outputs": [],
   "source": [
    "### Logical Operators:\n",
    "# AND(and): dono conditioon true ho\n",
    "# OR(or): dono mein se ek v agar true ho, phir yea condition true hota hai.\n",
    "# NOT(Not): condition ko ulta kr deta hai.\n"
   ]
  },
  {
   "cell_type": "code",
   "execution_count": 8,
   "id": "048d54c4-fcce-4ddc-b3a0-b2202b99de94",
   "metadata": {},
   "outputs": [],
   "source": [
    "## Credit Card eligibility:"
   ]
  },
  {
   "cell_type": "code",
   "execution_count": 14,
   "id": "fa242085-1b12-4699-998b-038c741125eb",
   "metadata": {},
   "outputs": [],
   "source": [
    "age= 25\n",
    "income= 40000\n",
    "if not(age>=18 or income >=30000):\n",
    "    print(\"you are eligible\")"
   ]
  },
  {
   "cell_type": "code",
   "execution_count": null,
   "id": "666ebfae-8d86-4741-9bb9-0ee82b56f144",
   "metadata": {},
   "outputs": [],
   "source": []
  }
 ],
 "metadata": {
  "kernelspec": {
   "display_name": "Python 3 (ipykernel)",
   "language": "python",
   "name": "python3"
  },
  "language_info": {
   "codemirror_mode": {
    "name": "ipython",
    "version": 3
   },
   "file_extension": ".py",
   "mimetype": "text/x-python",
   "name": "python",
   "nbconvert_exporter": "python",
   "pygments_lexer": "ipython3",
   "version": "3.9.6"
  }
 },
 "nbformat": 4,
 "nbformat_minor": 5
}
