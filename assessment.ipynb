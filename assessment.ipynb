{
 "cells": [
  {
   "cell_type": "code",
   "execution_count": 3,
   "id": "71c28400-b1b2-4e5d-a9ec-cc533bfd5a07",
   "metadata": {},
   "outputs": [
    {
     "name": "stdout",
     "output_type": "stream",
     "text": [
      "2450\n"
     ]
    }
   ],
   "source": [
    "## Question 1:\n",
    "\n",
    "#Write a Python program to calculate the sum of all even numbers between 1 and 100 using a for loop.\n",
    "\n",
    "even_sum=sum(x for x in range(1,100) if x%2==0)\n",
    "print(even_sum)"
   ]
  },
  {
   "cell_type": "code",
   "execution_count": 6,
   "id": "b09eb0be-a98d-41b8-92fe-93f151fb9243",
   "metadata": {},
   "outputs": [
    {
     "data": {
      "text/plain": [
       "4321"
      ]
     },
     "execution_count": 6,
     "metadata": {},
     "output_type": "execute_result"
    }
   ],
   "source": [
    "# Question 2:\n",
    "# Write a while loop to reverse a given number (e.g., input 1234 → output 4321).\n",
    "\n",
    "def rev_num(n):\n",
    "    temp=n\n",
    "    num=0\n",
    "    while(temp>0):\n",
    "        num=num*10+(temp%10)\n",
    "        temp=temp//10\n",
    "    return num\n",
    "\n",
    "rev_num(1234)"
   ]
  },
  {
   "cell_type": "code",
   "execution_count": 9,
   "id": "a3eb625e-e192-4d74-ac9e-11124e7e2e01",
   "metadata": {},
   "outputs": [
    {
     "data": {
      "text/plain": [
       "False"
      ]
     },
     "execution_count": 9,
     "metadata": {},
     "output_type": "execute_result"
    }
   ],
   "source": [
    "# Question 3:\n",
    "# Write a function that checks if a given number is a palindrome. The function should return True or False.\n",
    "\n",
    "def is_palin(n):\n",
    "    temp_txt=int((str(n))[::-1])\n",
    "    return n==temp_txt\n",
    "is_palin(123)"
   ]
  },
  {
   "cell_type": "code",
   "execution_count": 14,
   "id": "c9272a28-ec2d-4df7-911a-3baeadbc71aa",
   "metadata": {},
   "outputs": [
    {
     "data": {
      "text/plain": [
       "\"it's a leap year\""
      ]
     },
     "execution_count": 14,
     "metadata": {},
     "output_type": "execute_result"
    }
   ],
   "source": [
    "# Question 4:\n",
    "# Write a Python program using an if-elif-else statement to determine whether a given year is a leap year.\n",
    "\n",
    "def is_leap(n):\n",
    "    if (n%400 ==0):\n",
    "        return \"It's a leap year\"\n",
    "    elif(n%100 !=00 and n%4==0):\n",
    "        return \"it's a leap year\"\n",
    "    else:\n",
    "        return \"Not a leap year\"\n",
    "is_leap(2024)"
   ]
  },
  {
   "cell_type": "code",
   "execution_count": 16,
   "id": "d1378981-5a4c-4438-9bd0-9237e9bbddac",
   "metadata": {},
   "outputs": [
    {
     "name": "stdout",
     "output_type": "stream",
     "text": [
      "['SHANU', 'RAVI']\n"
     ]
    }
   ],
   "source": [
    "#Use map() to convert a list of strings to uppercase.\n",
    "#Example: Input: ['shanu', 'ravi'] → Output: ['SHANU', 'RAVI'].\n",
    "\n",
    "lst = ['shanu', 'ravi']\n",
    "new_lst=list(map(lambda x:x.upper(), lst))\n",
    "\n",
    "print(new_lst)"
   ]
  },
  {
   "cell_type": "code",
   "execution_count": 18,
   "id": "f66e938d-2491-421e-b98b-2f7e5bdfd998",
   "metadata": {},
   "outputs": [
    {
     "name": "stdout",
     "output_type": "stream",
     "text": [
      "[12, 17]\n"
     ]
    }
   ],
   "source": [
    "# Question 6:\n",
    "# Given a list of numbers, use filter() to create a new list containing only the numbers greater than 10.\n",
    "# Example: Input: [5, 12, 17, 7] → Output: [12, 17].\n",
    "\n",
    "lst=[5, 12, 17, 7]\n",
    "\n",
    "new_lst=list(filter(lambda x:x>10, lst))\n",
    "print(new_lst)"
   ]
  },
  {
   "cell_type": "code",
   "execution_count": 19,
   "id": "617c76c4-5d90-41e7-8755-644edda854d0",
   "metadata": {},
   "outputs": [
    {
     "name": "stdout",
     "output_type": "stream",
     "text": [
      "{'name': 'Shanu', 'skills': ['Python', 'DSA']}\n"
     ]
    }
   ],
   "source": [
    "# Question 7:\n",
    "# Write a program to save the following dictionary to a pickle file, then load it back and print the result:\n",
    "import pickle\n",
    "data = {\"name\": \"Shanu\", \"skills\": [\"Python\", \"DSA\"]}\n",
    "\n",
    "with open(\"assess_data.pkl\", \"wb\") as file:\n",
    "    pickle.dump(data,file)\n",
    "\n",
    "with open(\"assess_data.pkl\", \"rb\") as file:\n",
    "    data_saved=pickle.load(file)\n",
    "\n",
    "print(data_saved)"
   ]
  },
  {
   "cell_type": "code",
   "execution_count": 20,
   "id": "c825b64b-9c85-4d12-9858-013e9dd07c15",
   "metadata": {},
   "outputs": [
    {
     "name": "stdout",
     "output_type": "stream",
     "text": [
      "9\n"
     ]
    }
   ],
   "source": [
    "# Given a text file example.txt, write a program to count the number of lines in the file.\n",
    "\n",
    "with open(\"example.txt\", \"r\") as file:\n",
    "    line_length=len(file.readlines())\n",
    "\n",
    "print(line_length)\n",
    "    "
   ]
  },
  {
   "cell_type": "code",
   "execution_count": null,
   "id": "21b9d819-f38c-436f-965b-45f758ee0b47",
   "metadata": {},
   "outputs": [],
   "source": []
  }
 ],
 "metadata": {
  "kernelspec": {
   "display_name": "Python 3 (ipykernel)",
   "language": "python",
   "name": "python3"
  },
  "language_info": {
   "codemirror_mode": {
    "name": "ipython",
    "version": 3
   },
   "file_extension": ".py",
   "mimetype": "text/x-python",
   "name": "python",
   "nbconvert_exporter": "python",
   "pygments_lexer": "ipython3",
   "version": "3.9.6"
  }
 },
 "nbformat": 4,
 "nbformat_minor": 5
}
