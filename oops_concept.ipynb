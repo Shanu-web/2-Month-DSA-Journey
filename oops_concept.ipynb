{
 "cells": [
  {
   "cell_type": "code",
   "execution_count": 1,
   "id": "5acd38fc-b509-474c-bf8c-71a79db9ef57",
   "metadata": {},
   "outputs": [
    {
     "name": "stdout",
     "output_type": "stream",
     "text": [
      "1800000.0\n"
     ]
    }
   ],
   "source": [
    "# ## Class and Objects\n",
    "\n",
    "# Write a Python program to define a class Car with attributes brand and price. Add a method discounted_price that calculates the price after a discount.\n",
    "\n",
    "# Discount = 10%.\n",
    "\n",
    "class car:\n",
    "    def __init__(self,brand,price):\n",
    "        self.brand=brand\n",
    "        self.price=price\n",
    "    def discounted_price(self,disc):\n",
    "        return self.price-(self.price*(disc/100))\n",
    "\n",
    "o=car(\"Bentle\",2000000)\n",
    "\n",
    "print(o.discounted_price(10))"
   ]
  },
  {
   "cell_type": "code",
   "execution_count": 7,
   "id": "1482dede-542e-42a7-a05d-c5f142221362",
   "metadata": {},
   "outputs": [
    {
     "name": "stdout",
     "output_type": "stream",
     "text": [
      "My car details are: Bentely speed  160 and 3 and 87 and 20\n"
     ]
    }
   ],
   "source": [
    "# Define a parent class Vehicle with attributes brand and speed.\n",
    "\n",
    "# Create a child class Car that adds an attribute num_seats and overrides the display_details method to include num_seats.\n",
    "\n",
    "\n",
    "class Vehicle:\n",
    "    def __init__(self,brand,speed):\n",
    "        self.brand=brand\n",
    "        self.speed=speed\n",
    "\n",
    "    def display_details(self):\n",
    "        return f\"My car details are: {self.brand} and {self.speed}\"\n",
    "        \n",
    "\n",
    "class Car(Vehicle):\n",
    "    def __init__(self,brand, speed, num_seats):\n",
    "        super().__init__(brand,speed)\n",
    "        self.num_seats=num_seats\n",
    "\n",
    "    def display_details(self):\n",
    "        return f\"My car details are: {self.brand} speed  {self.speed} and {self.num_seats}\"\n",
    "\n",
    "        \n",
    "class Electric_Car(Car):\n",
    "    def __init__(self,brand,speed,num_seats,battery_capacity,charge_time):\n",
    "        super().__init__(brand,speed,num_seats)\n",
    "        self.battery_capacity=battery_capacity\n",
    "        self.charge_time=charge_time\n",
    "    def display_details(self):\n",
    "        return f\"My car details are: {self.brand} speed  {self.speed} and {self.num_seats} and {self.battery_capacity} and {self.charge_time}\"\n",
    "\n",
    "\n",
    "        \n",
    "o=Electric_Car(\"Bentely\",160,3,87,20)\n",
    "print(o.display_details())"
   ]
  },
  {
   "cell_type": "code",
   "execution_count": null,
   "id": "17a5bb53-eb0a-4fca-9b4a-9e08316326c2",
   "metadata": {},
   "outputs": [],
   "source": []
  }
 ],
 "metadata": {
  "kernelspec": {
   "display_name": "Python 3 (ipykernel)",
   "language": "python",
   "name": "python3"
  },
  "language_info": {
   "codemirror_mode": {
    "name": "ipython",
    "version": 3
   },
   "file_extension": ".py",
   "mimetype": "text/x-python",
   "name": "python",
   "nbconvert_exporter": "python",
   "pygments_lexer": "ipython3",
   "version": "3.9.6"
  }
 },
 "nbformat": 4,
 "nbformat_minor": 5
}
