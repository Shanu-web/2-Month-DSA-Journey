{
 "cells": [
  {
   "cell_type": "code",
   "execution_count": 1,
   "id": "5acd38fc-b509-474c-bf8c-71a79db9ef57",
   "metadata": {},
   "outputs": [
    {
     "name": "stdout",
     "output_type": "stream",
     "text": [
      "1800000.0\n"
     ]
    }
   ],
   "source": [
    "# ## Class and Objects\n",
    "\n",
    "# Write a Python program to define a class Car with attributes brand and price. Add a method discounted_price that calculates the price after a discount.\n",
    "\n",
    "# Discount = 10%.\n",
    "\n",
    "class car:\n",
    "    def __init__(self,brand,price):\n",
    "        self.brand=brand\n",
    "        self.price=price\n",
    "    def discounted_price(self,disc):\n",
    "        return self.price-(self.price*(disc/100))\n",
    "\n",
    "o=car(\"Bentle\",2000000)\n",
    "\n",
    "print(o.discounted_price(10))"
   ]
  },
  {
   "cell_type": "code",
   "execution_count": 7,
   "id": "1482dede-542e-42a7-a05d-c5f142221362",
   "metadata": {},
   "outputs": [
    {
     "name": "stdout",
     "output_type": "stream",
     "text": [
      "My car details are: Bentely speed  160 and 3 and 87 and 20\n"
     ]
    }
   ],
   "source": [
    "# Define a parent class Vehicle with attributes brand and speed.\n",
    "\n",
    "# Create a child class Car that adds an attribute num_seats and overrides the display_details method to include num_seats.\n",
    "\n",
    "\n",
    "class Vehicle:\n",
    "    def __init__(self,brand,speed):\n",
    "        self.brand=brand\n",
    "        self.speed=speed\n",
    "\n",
    "    def display_details(self):\n",
    "        return f\"My car details are: {self.brand} and {self.speed}\"\n",
    "        \n",
    "\n",
    "class Car(Vehicle):\n",
    "    def __init__(self,brand, speed, num_seats):\n",
    "        super().__init__(brand,speed)\n",
    "        self.num_seats=num_seats\n",
    "\n",
    "    def display_details(self):\n",
    "        return f\"My car details are: {self.brand} speed  {self.speed} and {self.num_seats}\"\n",
    "\n",
    "        \n",
    "class Electric_Car(Car):\n",
    "    def __init__(self,brand,speed,num_seats,battery_capacity,charge_time):\n",
    "        super().__init__(brand,speed,num_seats)\n",
    "        self.battery_capacity=battery_capacity\n",
    "        self.charge_time=charge_time\n",
    "    def display_details(self):\n",
    "        return f\"My car details are: {self.brand} speed  {self.speed} and {self.num_seats} and {self.battery_capacity} and {self.charge_time}\"\n",
    "\n",
    "\n",
    "        \n",
    "o=Electric_Car(\"Bentely\",160,3,87,20)\n",
    "print(o.display_details())"
   ]
  },
  {
   "cell_type": "code",
   "execution_count": null,
   "id": "17a5bb53-eb0a-4fca-9b4a-9e08316326c2",
   "metadata": {},
   "outputs": [],
   "source": [
    "## Polymorphism--> Polymorphism means many forms. In python it allows same method or operation \n",
    "#to have different behaviours based on the context\n",
    "\n",
    "# Types of Polymorphism in Python;-. Method overriding(dynamic polymorphism"
   ]
  },
  {
   "cell_type": "code",
   "execution_count": 12,
   "id": "fcd0b0c2-ab95-4ea5-bff1-3cf41f1a2bf5",
   "metadata": {},
   "outputs": [
    {
     "name": "stdout",
     "output_type": "stream",
     "text": [
      "I am an IT Employee\n",
      "I write code\n",
      "I create Designs\n",
      "\n",
      "I write code\n",
      "I create Designs\n"
     ]
    }
   ],
   "source": [
    "# Define a parent class Employee with a method get_role.\n",
    "\n",
    "# Create two child classes: Developer and Designer.\n",
    "# Override the get_role method in both classes to return \"I write code\" and \"I create designs\" respectively.\n",
    "# Write a function that takes an object of any class and calls its get_role method.\n",
    "\n",
    "class Employee:\n",
    "    def get_role(self):\n",
    "        return \"I am an IT Employee\"\n",
    "\n",
    "class Developer(Employee):\n",
    "    def get_role(self):\n",
    "        return \"I write code\"\n",
    "\n",
    "class Designer(Employee):\n",
    "    def get_role(self):\n",
    "        return \"I create Designs\"\n",
    "\n",
    "employee =[Employee(), Developer(), Designer()]\n",
    "\n",
    "for i in employee:\n",
    "    print(i.get_role())\n",
    "\n",
    "def employee_details(role):\n",
    "    if isinstance(role, Developer):\n",
    "        return role.get_role()\n",
    "    elif isinstance(role, Designer):\n",
    "        return role.get_role()\n",
    "\n",
    "dev=Developer()\n",
    "des= Designer()\n",
    "print()\n",
    "print(employee_details(dev))\n",
    "print(employee_details(des))\n"
   ]
  },
  {
   "cell_type": "code",
   "execution_count": 19,
   "id": "1f92abc3-ddeb-498f-9b64-e4681d498fc8",
   "metadata": {},
   "outputs": [
    {
     "name": "stdout",
     "output_type": "stream",
     "text": [
      "Deposited amount: 500 Remaining balance: 1500\n",
      "Withdrew Amount : 457 Remaining Balance: 1043\n"
     ]
    }
   ],
   "source": [
    "## Encapsulation:\n",
    "\n",
    "class BankAccount:\n",
    "    def __init__(self,balance):\n",
    "        self.__balance=balance\n",
    "        \n",
    "    def deposit(self, amount):\n",
    "        if amount > 0:\n",
    "            self.__balance +=amount\n",
    "            return f\"Deposited amount: {amount} Remaining balance: {self.__balance}\"\n",
    "        return \"Inavlid amount\"\n",
    "\n",
    "    def withdraw(self, amount):\n",
    "        if 0 < amount <= self.__balance:\n",
    "            self.__balance-=amount\n",
    "            return f\"Withdrew Amount : {amount} Remaining Balance: {self.__balance}\"\n",
    "        return \"Account balance not enough\"\n",
    "\n",
    "bank=BankAccount(1000)\n",
    "\n",
    "print(bank.deposit(500))\n",
    "print(bank.withdraw(457))\n",
    "\n",
    "        "
   ]
  },
  {
   "cell_type": "code",
   "execution_count": 20,
   "id": "f5af08d9-2af8-4396-b47b-a5ace2167719",
   "metadata": {},
   "outputs": [],
   "source": [
    "# ## Getter and Setters\n",
    "\n",
    "# Create a class Product with the following:\n",
    "\n",
    "# Private attributes: name and price.\n",
    "# Getter and Setter for price:\n",
    "# Ensure the price is always positive.\n",
    "# Use the @property decorator for the getter and setter.\n",
    "# Add a method to calculate the discounted price (10% discount).'\n",
    "\n",
    "class Product:\n",
    "    def __init__(self, name,price):\n",
    "        self.__name=name\n",
    "        self.__price=price\n",
    "        \n",
    "    @property\n",
    "    def price(self):\n",
    "        return self.__price\n",
    "\n",
    "    @price.setter\n",
    "    def price(self, new_price):\n",
    "        if new_price>0:\n",
    "            self.__price=new_price\n",
    "            return self.__price\n",
    "        return \"Invalid Price\"\n",
    "\n",
    "    def discount(self):\n",
    "        return self.__price-(self.__price*0.10)\n",
    "        \n",
    "    "
   ]
  },
  {
   "cell_type": "code",
   "execution_count": 24,
   "id": "2b035c2d-f3b0-4a4f-954d-869710481d91",
   "metadata": {},
   "outputs": [
    {
     "name": "stdout",
     "output_type": "stream",
     "text": [
      "Vector(4, 6)\n",
      "False\n"
     ]
    }
   ],
   "source": [
    "# Create a class Vector with two attributes x and y.\n",
    "# Overload the + operator to add two vectors.\n",
    "# # Overload the == operator to compare two vectors.\n",
    "\n",
    "class Vector:\n",
    "    def __init__(self,x,y):\n",
    "        self.x=x\n",
    "        self.y=y\n",
    "    def __add__(self,other):\n",
    "        return Vector(self.x+other.x,self.y+other.y)\n",
    "\n",
    "    def __eq__(self,other):\n",
    "        return self.x==other.x and self.y==other.y\n",
    "\n",
    "    def __str__(self):\n",
    "        return f\"Vector({self.x}, {self.y})\"\n",
    "    \n",
    "v1 = Vector(3, 4)\n",
    "v2 = Vector(1, 2)\n",
    "v3 = v1 + v2  # Vector(4, 6)\n",
    "print(v3)\n",
    "\n",
    "print(v1 == v2)  # Output: False\n"
   ]
  },
  {
   "cell_type": "code",
   "execution_count": 32,
   "id": "5d267883-8e87-4644-ac6c-ce80c9237bae",
   "metadata": {},
   "outputs": [
    {
     "name": "stdout",
     "output_type": "stream",
     "text": [
      "Hi, I am Gautami and I am 26 years old\n",
      "I have a team size of around 5\n"
     ]
    }
   ],
   "source": [
    "class Person:\n",
    "    def __init__(self,name,age):\n",
    "        self.name=name\n",
    "        self.age=age\n",
    "\n",
    "    def introduce(self):\n",
    "        return f\"Hi, I am {self.name} and I am {self.age} years old\"\n",
    "\n",
    "class Employee(Person):\n",
    "    def __init__(self, name,age,job_title, salary):\n",
    "        super().__init__(name,age)\n",
    "        self.job_title=job_title\n",
    "        self.salary=salary\n",
    "\n",
    "    def work(self):\n",
    "        return f\"I work as a {self.job_title} and earn Rs.{self.salary}.\"\n",
    "\n",
    "class Manager(Employee):\n",
    "    def __init__(self, name, age,job_title, salary, team_size):\n",
    "        super().__init__(name,age,job_title,salary)\n",
    "        self.team_size=team_size\n",
    "\n",
    "    def work(self):\n",
    "        return f\"I have a team size of around {self.team_size}\"\n",
    "\n",
    "manager =Manager(\"Gautami\", 26, \"Software Lead\", 100000, 5)\n",
    "print(manager.introduce())\n",
    "print(manager.work())\n",
    "        "
   ]
  },
  {
   "cell_type": "code",
   "execution_count": null,
   "id": "2a2d3a0e-6b14-4552-985e-0ee4ddc5303a",
   "metadata": {},
   "outputs": [],
   "source": []
  }
 ],
 "metadata": {
  "kernelspec": {
   "display_name": "Python 3 (ipykernel)",
   "language": "python",
   "name": "python3"
  },
  "language_info": {
   "codemirror_mode": {
    "name": "ipython",
    "version": 3
   },
   "file_extension": ".py",
   "mimetype": "text/x-python",
   "name": "python",
   "nbconvert_exporter": "python",
   "pygments_lexer": "ipython3",
   "version": "3.9.6"
  }
 },
 "nbformat": 4,
 "nbformat_minor": 5
}
