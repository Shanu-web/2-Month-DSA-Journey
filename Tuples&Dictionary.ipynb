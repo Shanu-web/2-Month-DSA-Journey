{
 "cells": [
  {
   "cell_type": "code",
   "execution_count": null,
   "id": "48226218-9206-4a3f-b99a-7039bb9526ff",
   "metadata": {},
   "outputs": [],
   "source": [
    "## Tuples and Dictionary"
   ]
  }
 ],
 "metadata": {
  "kernelspec": {
   "display_name": "Python 3 (ipykernel)",
   "language": "python",
   "name": "python3"
  },
  "language_info": {
   "codemirror_mode": {
    "name": "ipython",
    "version": 3
   },
   "file_extension": ".py",
   "mimetype": "text/x-python",
   "name": "python",
   "nbconvert_exporter": "python",
   "pygments_lexer": "ipython3",
   "version": "3.9.6"
  }
 },
 "nbformat": 4,
 "nbformat_minor": 5
}
