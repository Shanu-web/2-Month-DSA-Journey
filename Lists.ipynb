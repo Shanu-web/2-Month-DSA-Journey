{
 "cells": [
  {
   "cell_type": "code",
   "execution_count": 1,
   "id": "128c50b0-31f8-4501-b90d-fdabebd4cf4c",
   "metadata": {},
   "outputs": [
    {
     "name": "stdout",
     "output_type": "stream",
     "text": [
      "['apple', 'banana', 'cherry']\n"
     ]
    }
   ],
   "source": [
    "## Lists kya hota hai:\n",
    "\n",
    "#list is a data struture used to store multiple values:\n",
    "\n",
    "# 1. List is mutable(change kr skte hai)\n",
    "# 2. lists are odrerd\n",
    "# 3. duplicate elemets are allowed\n",
    "\n",
    "\n",
    "fruits=['apple', 'banana', 'cherry']\n",
    "\n",
    "print(fruits)"
   ]
  },
  {
   "cell_type": "code",
   "execution_count": 4,
   "id": "7bcdcec3-535e-4d2e-a1d4-6e89bca9e4ce",
   "metadata": {},
   "outputs": [
    {
     "name": "stdout",
     "output_type": "stream",
     "text": [
      "[10, 20, 30, 40]\n",
      "10\n",
      "40\n"
     ]
    }
   ],
   "source": [
    "## Basic lists operetion: create and access list\n",
    "\n",
    "numbers =[10,20,30,40]\n",
    "\n",
    "print(numbers)\n",
    "\n",
    "\n",
    "##Accessing the elements:\n",
    "\n",
    "print(numbers[0])\n",
    "print(numbers[-1])\n",
    "\n",
    "\n",
    "# lists are define within square brackets\n",
    "\n",
    "# elements ko index ke through access krte hai"
   ]
  },
  {
   "cell_type": "code",
   "execution_count": 18,
   "id": "68943b57-034f-4a82-8e28-556c3fb5d9b7",
   "metadata": {},
   "outputs": [
    {
     "name": "stdout",
     "output_type": "stream",
     "text": [
      "['apple', 'banana', 'cherry']\n",
      "['apple', 'watermelon', 'cherry']\n",
      "['apple', 'watermelon', 'cherry', 'orange']\n",
      "['apple', 'watermelon', 'grapes', 'cherry', 'orange']\n"
     ]
    }
   ],
   "source": [
    "## Modifying and adding the elements in list:\n",
    "\n",
    "fruits=['apple', 'banana', 'cherry']\n",
    "print(fruits)\n",
    "fruits[1]='watermelon'\n",
    "\n",
    "print(fruits)\n",
    "\n",
    "\n",
    "fruits.append('orange')\n",
    "\n",
    "print(fruits)\n",
    "\n",
    "\n",
    "fruits.insert(2, 'grapes')\n",
    "print(fruits)"
   ]
  },
  {
   "cell_type": "code",
   "execution_count": 19,
   "id": "9dd41124-aef1-48a9-a17c-65fd338caafc",
   "metadata": {},
   "outputs": [
    {
     "name": "stdout",
     "output_type": "stream",
     "text": [
      "['apple', 'watermelon', 'grapes', 'cherry', 'orange']\n"
     ]
    }
   ],
   "source": [
    "## Removing Elemets: \n",
    "\n",
    "print(fruits)"
   ]
  },
  {
   "cell_type": "code",
   "execution_count": 16,
   "id": "bff6af7b-2073-4ba5-92ad-fd94e2933241",
   "metadata": {},
   "outputs": [
    {
     "name": "stdout",
     "output_type": "stream",
     "text": [
      "['apple', 'grapes', 'cherry', 'orange']\n"
     ]
    }
   ],
   "source": [
    "fruits.remove('watermelon')\n",
    "print(fruits)"
   ]
  },
  {
   "cell_type": "code",
   "execution_count": 17,
   "id": "f0205f47-a232-4aea-92eb-8474082479e8",
   "metadata": {},
   "outputs": [
    {
     "name": "stdout",
     "output_type": "stream",
     "text": [
      "['apple', 'grapes', 'cherry']\n"
     ]
    }
   ],
   "source": [
    "fruits.pop()\n",
    "print(fruits)"
   ]
  },
  {
   "cell_type": "code",
   "execution_count": 26,
   "id": "ddf2c2d9-2734-4598-bd37-0e5e6f7ecf63",
   "metadata": {},
   "outputs": [
    {
     "name": "stdout",
     "output_type": "stream",
     "text": [
      "['watermelon', 'grapes', 'cherry', 'orange']\n",
      "cherry\n",
      "['apple', 'watermelon', 'grapes', 'cherry']\n",
      "['cherry', 'orange']\n"
     ]
    }
   ],
   "source": [
    "## List slicing: \n",
    "\n",
    "print(fruits[1:len(fruits)+1])\n",
    "print(fruits[3])\n",
    "print(fruits[:4])\n",
    "print(fruits[-2:])"
   ]
  },
  {
   "cell_type": "code",
   "execution_count": 33,
   "id": "dfdf4064-1120-4483-988c-213e3ba24388",
   "metadata": {},
   "outputs": [
    {
     "name": "stdout",
     "output_type": "stream",
     "text": [
      "[1, 4, 9, 16, 25]\n",
      "[2, 4, 6, 8, 10, 12, 14, 16, 18]\n"
     ]
    }
   ],
   "source": [
    "## List Comprehenssions:\n",
    "\n",
    "##square of a number:\n",
    "squares= [x**2 for x in range(1,6)]\n",
    "print(squares)\n",
    "\n",
    "# [expression, for item in iterable, if condition(optional)\n",
    "\n",
    "# To print all the even numbers between 1 to 20\n",
    "\n",
    "even=[i for i in range(1,20) if i%2==0]\n",
    "print(even)\n"
   ]
  },
  {
   "cell_type": "code",
   "execution_count": 28,
   "id": "eb42c8f4-0b45-4139-8fbc-8e6def349a25",
   "metadata": {},
   "outputs": [
    {
     "name": "stdout",
     "output_type": "stream",
     "text": [
      "[4, 5, 6]\n"
     ]
    }
   ],
   "source": [
    "matrix=[[1,2,3], [4,5,6],[7,8,9]]\n",
    "\n",
    "print(matrix[1])\n"
   ]
  },
  {
   "cell_type": "code",
   "execution_count": 29,
   "id": "f363cbd2-4b19-427c-95d3-0316be3601df",
   "metadata": {},
   "outputs": [
    {
     "name": "stdout",
     "output_type": "stream",
     "text": [
      "5\n"
     ]
    }
   ],
   "source": [
    "print(matrix[1][1])"
   ]
  },
  {
   "cell_type": "code",
   "execution_count": null,
   "id": "0093be15-fa51-4e2d-a81e-564d3453dcee",
   "metadata": {},
   "outputs": [],
   "source": []
  }
 ],
 "metadata": {
  "kernelspec": {
   "display_name": "Python 3 (ipykernel)",
   "language": "python",
   "name": "python3"
  },
  "language_info": {
   "codemirror_mode": {
    "name": "ipython",
    "version": 3
   },
   "file_extension": ".py",
   "mimetype": "text/x-python",
   "name": "python",
   "nbconvert_exporter": "python",
   "pygments_lexer": "ipython3",
   "version": "3.9.6"
  }
 },
 "nbformat": 4,
 "nbformat_minor": 5
}
