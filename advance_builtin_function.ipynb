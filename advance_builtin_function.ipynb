{
 "cells": [
  {
   "cell_type": "code",
   "execution_count": 1,
   "id": "67c99b55-624a-44d1-8398-720cf25ec30f",
   "metadata": {},
   "outputs": [
    {
     "name": "stdout",
     "output_type": "stream",
     "text": [
      "[2, 4, 6, 8, 10]\n"
     ]
    }
   ],
   "source": [
    "# Map functions\n",
    "# Applies a given function to all items in an iterable (e.g., list) and returns a map object \n",
    "# (which can be converted to a list, tuple, etc.).\n",
    "\n",
    "numbers = [1, 2, 3, 4, 5]\n",
    "doubled = list(map(lambda x: x * 2, numbers))\n",
    "print(doubled)\n"
   ]
  },
  {
   "cell_type": "code",
   "execution_count": 2,
   "id": "60951b81-4b68-499a-a2e3-281377d42741",
   "metadata": {},
   "outputs": [
    {
     "name": "stdout",
     "output_type": "stream",
     "text": [
      "['SHANU', 'RAVI', 'RAKESH', 'GAUTAMI']\n"
     ]
    }
   ],
   "source": [
    "# Write a program to convert a list of strings into uppercase using map().\n",
    "\n",
    "lst= [\"shanu\", \"ravi\", \"rakesh\", \"GautAmi\"]\n",
    "\n",
    "upper_conv= list(map(lambda x: x.upper(), lst))\n",
    "\n",
    "print(upper_conv)"
   ]
  },
  {
   "cell_type": "code",
   "execution_count": 3,
   "id": "8e4d9dd8-74a5-4155-abb7-4a35aed120b4",
   "metadata": {},
   "outputs": [
    {
     "name": "stdout",
     "output_type": "stream",
     "text": [
      "['Shanu', 'Ravi', 'Rakesh', 'Gautami']\n"
     ]
    }
   ],
   "source": [
    "# Convert only the first letter of each string to uppercase.\n",
    "#Filter out strings shorter than 5 characters before converting to uppercase.\n",
    "\n",
    "lst= [\"shanu\", \"ravi\", \"rakesh\", \"GautAmi\"]\n",
    "\n",
    "upper_conv= list(map(lambda x: x.title(), lst))\n",
    "\n",
    "print(upper_conv)\n",
    "\n",
    "\n"
   ]
  },
  {
   "cell_type": "code",
   "execution_count": 5,
   "id": "db23b428-8088-4b65-95e6-c957d6a19156",
   "metadata": {},
   "outputs": [
    {
     "name": "stdout",
     "output_type": "stream",
     "text": [
      "[2, 4, 6]\n"
     ]
    }
   ],
   "source": [
    "## Filter Function\n",
    "# filters elements based on condition on an iterable\n",
    "\n",
    "numbers=[1,2,3,4,5,6]\n",
    "even_numbers=list(filter(lambda x:x%2==0, numbers))\n",
    "print(even_numbers)"
   ]
  },
  {
   "cell_type": "code",
   "execution_count": 6,
   "id": "e5ea0594-afc4-4778-b169-dc6537905bc7",
   "metadata": {},
   "outputs": [
    {
     "name": "stdout",
     "output_type": "stream",
     "text": [
      "['shanu', 'ravi', 'rakesh', 'GautAmi']\n"
     ]
    }
   ],
   "source": [
    "## filter all strings from a list that have lengthe greater than 3\n",
    "\n",
    "lst= [\"shanu\", \"ram\", \"ravi\", \"rakesh\", \"GautAmi\"]\n",
    "\n",
    "length_great= list(filter(lambda x: len(x)>3, lst))\n",
    "print(length_great)"
   ]
  },
  {
   "cell_type": "code",
   "execution_count": 8,
   "id": "49c3c84b-c2ff-440c-9f7e-65bc7b13ed0d",
   "metadata": {},
   "outputs": [
    {
     "name": "stdout",
     "output_type": "stream",
     "text": [
      "['SHANU', 'RAKESH', 'GAUTAMI']\n"
     ]
    }
   ],
   "source": [
    "#Filter out strings shorter than 5 characters before converting to uppercase.\n",
    "\n",
    "lst = [\"shanu\", \"ram\", \"ravi\", \"rakesh\", \"GautAmi\"]\n",
    "length_greater = list(map(lambda x:x.upper() ,filter(lambda x:len(x)>=5,lst)))\n",
    "print(length_greater)"
   ]
  },
  {
   "cell_type": "code",
   "execution_count": 9,
   "id": "ea45ac55-fde6-4bfc-adc8-64ac7b894fa3",
   "metadata": {},
   "outputs": [
    {
     "name": "stdout",
     "output_type": "stream",
     "text": [
      "15\n"
     ]
    }
   ],
   "source": [
    "## reduce function\n",
    "## reduce function is part of functools module, it's used to apply a rolling computation to sequential pairs of elements in an iterable\n",
    "## this means that it reduces the iterable to single value by repeatedly applying a funstion\n",
    "#it take two arguments abinary funstion and iterable\n",
    "\n",
    "## Sum of all the elemnets\n",
    "\n",
    "from functools import reduce\n",
    "\n",
    "numbers = [1,2,3,4,5]\n",
    "result = reduce(lambda x,y:x+y, numbers)\n",
    "print(result)"
   ]
  },
  {
   "cell_type": "code",
   "execution_count": 10,
   "id": "7fe1d73b-986e-4f43-9814-f44d7bb11206",
   "metadata": {},
   "outputs": [
    {
     "name": "stdout",
     "output_type": "stream",
     "text": [
      "99\n"
     ]
    }
   ],
   "source": [
    "## fidning the maximum value in list\n",
    "\n",
    "from functools import reduce\n",
    "\n",
    "numbers=[20,30,35,40,46,99,1]\n",
    "\n",
    "max_num= reduce(lambda x,y: x if x>y else y, numbers)\n",
    "\n",
    "print(max_num)"
   ]
  },
  {
   "cell_type": "code",
   "execution_count": 11,
   "id": "72c9cfb9-b433-4928-908c-c09a738b2706",
   "metadata": {},
   "outputs": [
    {
     "name": "stdout",
     "output_type": "stream",
     "text": [
      "[('shanu', 60), ('gautami', 70)]\n"
     ]
    }
   ],
   "source": [
    "## Zip function\n",
    "#combine two or more iterable in a single iterable tuples\n",
    "\n",
    "name=[\"shanu\", \"gautami\"]\n",
    "scores=[60,70]\n",
    "combine=list(zip(name,scores))\n",
    "print(combine)"
   ]
  },
  {
   "cell_type": "code",
   "execution_count": 14,
   "id": "48487efc-edd5-483c-a133-50ae10642d54",
   "metadata": {},
   "outputs": [
    {
     "name": "stdout",
     "output_type": "stream",
     "text": [
      "{'shanu': 60, 'gautami': 70}\n"
     ]
    }
   ],
   "source": [
    "#Create a dictionary by combining two lists: keys as names and values as scores.\n",
    "name=[\"shanu\", \"gautami\"]\n",
    "scores=[60,70]\n",
    "combine=dict(zip(name,scores))\n",
    "print(combine)"
   ]
  },
  {
   "cell_type": "code",
   "execution_count": 17,
   "id": "c5331338-6b31-4b5a-a351-099b05cf399d",
   "metadata": {},
   "outputs": [
    {
     "name": "stdout",
     "output_type": "stream",
     "text": [
      "0 apple\n",
      "1 orange\n",
      "2 banana\n"
     ]
    }
   ],
   "source": [
    "# enumerate() Function\n",
    "\n",
    "items = [\"apple\", \"orange\", \"banana\"]\n",
    "\n",
    "for i,v in enumerate(items):\n",
    "    print(i,v)"
   ]
  },
  {
   "cell_type": "code",
   "execution_count": 18,
   "id": "b98d391d-19db-4c1e-8167-c363bb5cf47d",
   "metadata": {},
   "outputs": [
    {
     "name": "stdout",
     "output_type": "stream",
     "text": [
      "True\n",
      "False\n"
     ]
    }
   ],
   "source": [
    "# any() and all() Functions\n",
    "\n",
    "# any() returns true if any one is true\n",
    "# all() returns true if all are true\n",
    "\n",
    "\n",
    "nums = [0, 1, 2]\n",
    "print(any(nums))  # Output: True (because 1 and 2 are true)\n",
    "print(all(nums))  # Output: False (because 0 is false)\n"
   ]
  },
  {
   "cell_type": "code",
   "execution_count": null,
   "id": "a2ee99a5-51b2-4963-858e-c582cd8e1809",
   "metadata": {},
   "outputs": [],
   "source": []
  }
 ],
 "metadata": {
  "kernelspec": {
   "display_name": "Python 3 (ipykernel)",
   "language": "python",
   "name": "python3"
  },
  "language_info": {
   "codemirror_mode": {
    "name": "ipython",
    "version": 3
   },
   "file_extension": ".py",
   "mimetype": "text/x-python",
   "name": "python",
   "nbconvert_exporter": "python",
   "pygments_lexer": "ipython3",
   "version": "3.9.6"
  }
 },
 "nbformat": 4,
 "nbformat_minor": 5
}
