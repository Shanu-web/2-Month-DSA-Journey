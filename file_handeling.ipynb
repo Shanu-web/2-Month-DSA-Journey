{
 "cells": [
  {
   "cell_type": "code",
   "execution_count": null,
   "id": "079c2f95-6d7e-4dd4-a0c0-8b3386303672",
   "metadata": {},
   "outputs": [],
   "source": [
    "## File Handeling in python\n",
    "\n",
    "# File hadeling is a critical concets in python for working with data stired in files\n",
    "\n",
    "# r -> to reda a file\n",
    "# w -> to write a file creates or overwrites if file exists\n",
    "# a-> append to add something in the end of the line of a file(file must exists)\n",
    "# r+ -> read and write file must exists\n",
    "\n",
    "# Syntax to open and close file\n",
    "\n",
    "# file = open(\"example.txt\", r)\n",
    "# file.close()"
   ]
  },
  {
   "cell_type": "code",
   "execution_count": null,
   "id": "e895250b-842f-4c60-b6f1-7f1219450a8f",
   "metadata": {},
   "outputs": [],
   "source": [
    "## using with statement\n",
    "\n",
    "ensure that file is properly closed after operations\n",
    "simplifies file handeling syntax\n",
    "\n",
    "with open(\"example.txt\",\"r\") as file:\n",
    "    conent =file.read()\n",
    "    print(content)"
   ]
  },
  {
   "cell_type": "code",
   "execution_count": 3,
   "id": "872e86db-71fb-438a-923e-ccc6a70aa450",
   "metadata": {},
   "outputs": [
    {
     "name": "stdout",
     "output_type": "stream",
     "text": [
      "This is a story about Shanu 2.0.\n",
      "Shanu is on a mission to master Python and DSA.\n",
      "He believes in consistent learning and dedication.\n",
      "Every day, he practices, solves problems, and builds solutions.\n",
      "Shanu aims to crack interviews at top tech companies like Microsoft.\n",
      "The journey is challenging but rewarding.\n",
      "With perseverance, Shanu will succeed and inspire others.\n",
      "\n",
      "This is a story about Shanu 2.0.\n",
      "Shanu is on a mission to master Python and DSA.\n",
      "He believes in consistent learning and dedication.\n",
      "Every day, he practices, solves problems, and builds solutions.\n",
      "Shanu aims to crack interviews at top tech companies like Microsoft.\n",
      "The journey is challenging but rewarding.\n",
      "With perseverance, Shanu will succeed and inspire others.\n"
     ]
    }
   ],
   "source": [
    "## Reading Files\n",
    "\n",
    "#read()--> read entire file as string\n",
    "#readLine() --> Reads one line at a time\n",
    "#readLines()--> Returns a list of all lines\n",
    "\n",
    "with open(\"example.txt\", \"r\") as file:\n",
    "    content=file.read()\n",
    "    print(content)\n",
    "\n",
    "    ## Read line by line\n",
    "    file.seek(0) ## reset cursor to start\n",
    "    for line in file:\n",
    "        print(line.strip())"
   ]
  },
  {
   "cell_type": "code",
   "execution_count": 4,
   "id": "1d953c6f-7803-4ced-85aa-5e9bf05e4acf",
   "metadata": {},
   "outputs": [],
   "source": [
    "with open(\"example.txt\", \"a\") as file:\n",
    "    file.write(\"\\nWe will rock it.\")"
   ]
  },
  {
   "cell_type": "code",
   "execution_count": 6,
   "id": "bbae5450-8b79-4f49-b32f-ca8a090447e9",
   "metadata": {},
   "outputs": [
    {
     "name": "stdout",
     "output_type": "stream",
     "text": [
      "9\n",
      "62\n",
      "382\n"
     ]
    }
   ],
   "source": [
    "# Write a program to count the number of lines, words, and characters in a file.\n",
    "\n",
    "with open(\"example.txt\", \"r\") as file:\n",
    "    lines= file.readlines()\n",
    "    line_count = len(lines)\n",
    "    word_count = sum(len(line.split()) for line in lines)\n",
    "    char_count= sum(len(line) for line in lines)\n",
    "\n",
    "print(line_count)\n",
    "print(word_count)\n",
    "print(char_count)"
   ]
  },
  {
   "cell_type": "code",
   "execution_count": 18,
   "id": "03ba34d5-630e-42dc-9c6c-0c53047144ca",
   "metadata": {},
   "outputs": [
    {
     "name": "stdout",
     "output_type": "stream",
     "text": [
      "['2.0. Shanu about story a is This', 'DSA. and Python master to mission a on is Shanu', 'dedication. and learning consistent in believes He', 'solutions. builds and problems, solves practices, he day, Every', 'Microsoft. like companies tech top at interviews crack to aims Shanu', 'rewarding. but challenging is journey The', 'others. inspire and succeed will Shanu perseverance, With', '', 'it. rock will We']\n"
     ]
    }
   ],
   "source": [
    "with open(\"example.txt\", \"r\") as file:\n",
    "    lines = file.readlines()  # Read all lines\n",
    "    rev_lines = []\n",
    "    for line in lines:\n",
    "        # Reverse the words in the line\n",
    "        rev_lines.append(\" \".join(line.strip().split()[::-1]))\n",
    "\n",
    "print(rev_lines)  # Print the reversed lines\n"
   ]
  },
  {
   "cell_type": "code",
   "execution_count": null,
   "id": "7d4759cf-7805-419a-a449-4d717d3e3fe4",
   "metadata": {},
   "outputs": [],
   "source": []
  }
 ],
 "metadata": {
  "kernelspec": {
   "display_name": "Python 3 (ipykernel)",
   "language": "python",
   "name": "python3"
  },
  "language_info": {
   "codemirror_mode": {
    "name": "ipython",
    "version": 3
   },
   "file_extension": ".py",
   "mimetype": "text/x-python",
   "name": "python",
   "nbconvert_exporter": "python",
   "pygments_lexer": "ipython3",
   "version": "3.9.6"
  }
 },
 "nbformat": 4,
 "nbformat_minor": 5
}
